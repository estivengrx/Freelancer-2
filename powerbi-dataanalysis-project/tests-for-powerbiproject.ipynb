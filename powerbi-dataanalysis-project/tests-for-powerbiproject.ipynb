{
 "cells": [
  {
   "cell_type": "code",
   "execution_count": 3,
   "metadata": {},
   "outputs": [
    {
     "name": "stdout",
     "output_type": "stream",
     "text": [
      "appearances.csv (Size: 124224149 bytes) : ['appearance_id', 'game_id', 'player_id', 'player_club_id', 'player_current_club_id', 'date', 'player_name', 'competition_id', 'yellow_cards', 'red_cards', 'goals', 'assists', 'minutes_played']\n",
      "clubs.csv (Size: 96064 bytes) : ['club_id', 'club_code', 'name', 'domestic_competition_id', 'total_market_value', 'squad_size', 'average_age', 'foreigners_number', 'foreigners_percentage', 'national_team_players', 'stadium_name', 'stadium_seats', 'net_transfer_record', 'coach_name', 'last_season', 'filename', 'url']\n",
      "club_games.csv (Size: 8454782 bytes) : ['game_id', 'club_id', 'own_goals', 'own_position', 'own_manager_name', 'opponent_id', 'opponent_goals', 'opponent_position', 'opponent_manager_name', 'hosting', 'is_win']\n",
      "competitions.csv (Size: 7465 bytes) : ['competition_id', 'competition_code', 'name', 'sub_type', 'type', 'country_id', 'country_name', 'domestic_league_code', 'confederation', 'url', 'is_major_national_league']\n",
      "games.csv (Size: 19884816 bytes) : ['game_id', 'competition_id', 'season', 'round', 'date', 'home_club_id', 'away_club_id', 'home_club_goals', 'away_club_goals', 'home_club_position', 'away_club_position', 'home_club_manager_name', 'away_club_manager_name', 'stadium', 'attendance', 'referee', 'url', 'home_club_formation', 'away_club_formation', 'home_club_name', 'away_club_name', 'aggregate', 'competition_type']\n",
      "game_events.csv (Size: 75464583 bytes) : ['game_event_id', 'date', 'game_id', 'minute', 'type', 'club_id', 'player_id', 'description', 'player_in_id', 'player_assist_id']\n",
      "game_lineups.csv (Size: 244384600 bytes) : ['game_lineups_id', 'date', 'game_id', 'player_id', 'club_id', 'player_name', 'type', 'position', 'number', 'team_captain']\n",
      "players.csv (Size: 10325270 bytes) : ['player_id', 'first_name', 'last_name', 'name', 'last_season', 'current_club_id', 'player_code', 'country_of_birth', 'city_of_birth', 'country_of_citizenship', 'date_of_birth', 'sub_position', 'position', 'foot', 'height_in_cm', 'contract_expiration_date', 'agent_name', 'image_url', 'url', 'current_club_domestic_competition_id', 'current_club_name', 'market_value_in_eur', 'highest_market_value_in_eur']\n",
      "player_valuations.csv (Size: 15801747 bytes) : ['player_id', 'date', 'market_value_in_eur', 'current_club_id', 'player_club_domestic_competition_id']\n"
     ]
    }
   ],
   "source": [
    "import os\n",
    "import pandas as pd\n",
    "\n",
    "def list_csv_columns(directory):\n",
    "    # Iterate over all files in the specified directory\n",
    "    for file_name in os.listdir(directory):\n",
    "        # Check if the file is a CSV file\n",
    "        if file_name.endswith('.csv'):\n",
    "            # Construct the full file path\n",
    "            file_path = os.path.join(directory, file_name)\n",
    "            # Get the file size in bytes\n",
    "            file_size = os.path.getsize(file_path)\n",
    "            # Read the CSV file into a DataFrame\n",
    "            df = pd.read_csv(file_path)\n",
    "            # Print the file name, file size, and column names\n",
    "            print(f\"{file_name} (Size: {file_size} bytes) : {list(df.columns)}\")\n",
    "\n",
    "# Specify the directory containing the CSV files\n",
    "directory = r\"D:\\Estiven\\Trabajo\\Freelancer 2\\powerbi-dataanalysis-project\\data\"\n",
    "\n",
    "# Call the function to list CSV columns and file sizes\n",
    "list_csv_columns(directory)"
   ]
  },
  {
   "cell_type": "code",
   "execution_count": 4,
   "metadata": {},
   "outputs": [
    {
     "name": "stdout",
     "output_type": "stream",
     "text": [
      "Removed: D:\\Estiven\\Trabajo\\Freelancer 2\\powerbi-dataanalysis-project\\data\\competitions.csv\n",
      "Removed: D:\\Estiven\\Trabajo\\Freelancer 2\\powerbi-dataanalysis-project\\data\\game_events.csv\n",
      "Removed: D:\\Estiven\\Trabajo\\Freelancer 2\\powerbi-dataanalysis-project\\data\\game_lineups.csv\n",
      "Cleanup complete. Only the selected files remain.\n"
     ]
    }
   ],
   "source": [
    "# Specify the directory containing the CSV files\n",
    "directory = r\"D:\\Estiven\\Trabajo\\Freelancer 2\\powerbi-dataanalysis-project\\data\"\n",
    "\n",
    "# List of files to keep\n",
    "files_to_keep = {\n",
    "    'appearances.csv',\n",
    "    'clubs.csv',\n",
    "    'club_games.csv',\n",
    "    'games.csv',\n",
    "    'players.csv',\n",
    "    'player_valuations.csv'\n",
    "}\n",
    "\n",
    "# Iterate over all files in the specified directory\n",
    "for file_name in os.listdir(directory):\n",
    "    # Check if the file is a CSV file and not in the keep list\n",
    "    if file_name.endswith('.csv') and file_name not in files_to_keep:\n",
    "        # Construct the full file path\n",
    "        file_path = os.path.join(directory, file_name)\n",
    "        # Remove the file\n",
    "        os.remove(file_path)\n",
    "        print(f\"Removed: {file_path}\")\n",
    "\n",
    "print(\"Cleanup complete. Only the selected files remain.\")"
   ]
  }
 ],
 "metadata": {
  "kernelspec": {
   "display_name": "Python 3",
   "language": "python",
   "name": "python3"
  },
  "language_info": {
   "codemirror_mode": {
    "name": "ipython",
    "version": 3
   },
   "file_extension": ".py",
   "mimetype": "text/x-python",
   "name": "python",
   "nbconvert_exporter": "python",
   "pygments_lexer": "ipython3",
   "version": "3.11.2"
  }
 },
 "nbformat": 4,
 "nbformat_minor": 2
}
