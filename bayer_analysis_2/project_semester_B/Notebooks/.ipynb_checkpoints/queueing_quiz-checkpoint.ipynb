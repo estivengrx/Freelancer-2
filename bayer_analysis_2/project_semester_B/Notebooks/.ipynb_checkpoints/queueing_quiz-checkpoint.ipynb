{
 "cells": [
  {
   "cell_type": "code",
   "execution_count": 5,
   "id": "b5cd8bd4-5684-4cf0-9804-4df887b47075",
   "metadata": {
    "tags": []
   },
   "outputs": [],
   "source": [
    "# !pip install simpy\n",
    "import numpy as np\n",
    "import pandas as pd\n",
    "import pickle as pkl\n",
    "import simpy\n",
    "import os\n",
    "import matplotlib.pyplot as plt\n",
    "import sys\n",
    "import simpy\n",
    "from sim_func import Sim_func\n",
    "import pymc as pm"
   ]
  },
  {
   "cell_type": "markdown",
   "id": "8b9f4cac-68fd-4dc9-a015-641f6fb6ad4e",
   "metadata": {},
   "source": [
    "## Welcome to the Queue quiz\n",
    "\n",
    "### You are now incharge of the a queueing system in your work place. Your factory works 24/7 and creates flawless semi-conducter chips.\n",
    "\n",
    "### Jobs are arriving with a constant rate, on average one every 12 seconds. However, the service times changes with time. We split the week into a 168 grid, where we have 7 days and 24 hours within a single day. For each cell in the grid, that is a combination of a day and an hour we have different service rate. \n"
   ]
  },
  {
   "cell_type": "markdown",
   "id": "eaeccfdb-855b-42da-9db8-7e2d66277820",
   "metadata": {},
   "source": [
    "## Part 1:\n",
    "\n",
    "### We first focus on a single service time of a single cell in the grid. Being more specific, Monday from 08:00 to 09:00. \n",
    "### In event_log_single_ser below you have pandas dataframe with the eventlog of this specific cell. \n",
    "\n",
    "### Your jobs is to understand what is the average service time and its distirbution using Bayesian analysis."
   ]
  },
  {
   "cell_type": "code",
   "execution_count": 3,
   "id": "d94aee4f-4846-471e-872e-f1840c814af0",
   "metadata": {
    "tags": []
   },
   "outputs": [
    {
     "data": {
      "text/html": [
       "<div>\n",
       "<style scoped>\n",
       "    .dataframe tbody tr th:only-of-type {\n",
       "        vertical-align: middle;\n",
       "    }\n",
       "\n",
       "    .dataframe tbody tr th {\n",
       "        vertical-align: top;\n",
       "    }\n",
       "\n",
       "    .dataframe thead th {\n",
       "        text-align: right;\n",
       "    }\n",
       "</style>\n",
       "<table border=\"1\" class=\"dataframe\">\n",
       "  <thead>\n",
       "    <tr style=\"text-align: right;\">\n",
       "      <th></th>\n",
       "      <th>customer_id</th>\n",
       "      <th>num_cust</th>\n",
       "      <th>event</th>\n",
       "      <th>time_stamp</th>\n",
       "      <th>day</th>\n",
       "      <th>hour</th>\n",
       "    </tr>\n",
       "  </thead>\n",
       "  <tbody>\n",
       "    <tr>\n",
       "      <th>0</th>\n",
       "      <td>0</td>\n",
       "      <td>0</td>\n",
       "      <td>Arrival</td>\n",
       "      <td>30.105252</td>\n",
       "      <td>2</td>\n",
       "      <td>8</td>\n",
       "    </tr>\n",
       "    <tr>\n",
       "      <th>1</th>\n",
       "      <td>0</td>\n",
       "      <td>1</td>\n",
       "      <td>Enter_service</td>\n",
       "      <td>30.105252</td>\n",
       "      <td>2</td>\n",
       "      <td>8</td>\n",
       "    </tr>\n",
       "    <tr>\n",
       "      <th>2</th>\n",
       "      <td>0</td>\n",
       "      <td>0</td>\n",
       "      <td>Departure</td>\n",
       "      <td>37.798838</td>\n",
       "      <td>2</td>\n",
       "      <td>8</td>\n",
       "    </tr>\n",
       "    <tr>\n",
       "      <th>3</th>\n",
       "      <td>1</td>\n",
       "      <td>0</td>\n",
       "      <td>Arrival</td>\n",
       "      <td>38.750399</td>\n",
       "      <td>2</td>\n",
       "      <td>8</td>\n",
       "    </tr>\n",
       "    <tr>\n",
       "      <th>4</th>\n",
       "      <td>1</td>\n",
       "      <td>1</td>\n",
       "      <td>Enter_service</td>\n",
       "      <td>38.750399</td>\n",
       "      <td>2</td>\n",
       "      <td>8</td>\n",
       "    </tr>\n",
       "  </tbody>\n",
       "</table>\n",
       "</div>"
      ],
      "text/plain": [
       "   customer_id  num_cust          event  time_stamp  day  hour\n",
       "0            0         0        Arrival   30.105252    2     8\n",
       "1            0         1  Enter_service   30.105252    2     8\n",
       "2            0         0      Departure   37.798838    2     8\n",
       "3            1         0        Arrival   38.750399    2     8\n",
       "4            1         1  Enter_service   38.750399    2     8"
      ]
     },
     "execution_count": 3,
     "metadata": {},
     "output_type": "execute_result"
    }
   ],
   "source": [
    "event_log_single_ser = pkl.load(open('./data/event_log_single_ser.pkl', 'rb'))\n",
    "event_log_single_ser.head()"
   ]
  },
  {
   "cell_type": "markdown",
   "id": "77f989c5-8d61-4a3c-abe1-c5f5b94f0504",
   "metadata": {},
   "source": [
    "## Explanation about the dataframe columns:\n",
    "\n",
    "### 1. customer_id: the id of customer, each customer has is own id.\n",
    "### 2. num_cust: the number of customers in the system (including service) prior to the event.\n",
    "### 3. event: there three type of events: arrival, entering service and departing the system.\n",
    "### 4. Timestamp: The total time elapased since hour 0 day 1 in seconds.\n",
    "### 6. day: the day of the week from 1 to 7 where 1 is Sunday.\n",
    "### 7. hour: the hour of the day 0-23, where 0 is midnight."
   ]
  },
  {
   "cell_type": "markdown",
   "id": "b912f6bb-a255-4118-8883-9f48e2955324",
   "metadata": {},
   "source": [
    "## Tasks:\n",
    "\n",
    "### 1. Do Bayesian anaysis for the average service rate and its distirbution.\n",
    "### 2. What did you use as the likelihood function and why?\n",
    "### 3. Do  posterior predicitive anaysis to assert that the chosen likelihood distribution is valid.\n",
    "### 4. According to the resulted anaysis, how certain are you about the average service prediction?"
   ]
  },
  {
   "cell_type": "markdown",
   "id": "60dbf415-3eb3-476b-82a0-5a58e7115c6a",
   "metadata": {},
   "source": [
    "## Answers and code"
   ]
  },
  {
   "cell_type": "code",
   "execution_count": null,
   "id": "98158f5b-430c-4474-aa0b-5abf8810d8cc",
   "metadata": {},
   "outputs": [],
   "source": []
  },
  {
   "cell_type": "code",
   "execution_count": null,
   "id": "71101020-7ee5-49a5-bb40-67bc644e1d75",
   "metadata": {},
   "outputs": [],
   "source": []
  },
  {
   "cell_type": "code",
   "execution_count": null,
   "id": "dc2e8907-5298-4b27-84e6-fabd0016d4a0",
   "metadata": {},
   "outputs": [],
   "source": []
  },
  {
   "cell_type": "code",
   "execution_count": null,
   "id": "7537101d-b724-493f-bb61-2623d9e8fe5c",
   "metadata": {},
   "outputs": [],
   "source": []
  },
  {
   "cell_type": "markdown",
   "id": "8dee2136-6e29-418e-b020-f5361f4c8572",
   "metadata": {},
   "source": []
  },
  {
   "cell_type": "markdown",
   "id": "17b90ec0-ac05-4b19-add9-80574eec8658",
   "metadata": {},
   "source": [
    "## Part 2:\n",
    "\n",
    "### We next turn to the next part where we wish to map the average service time at each time cell. \n",
    "\n",
    "### Important note: please ignore the data from the previuos part while doing this task.\n",
    "\n",
    "### The data is under df_tot as given below. In the dataset we have missing parts, some cells in the grid are missing. Your job is to fill the grid. "
   ]
  },
  {
   "cell_type": "code",
   "execution_count": 6,
   "id": "ad339bbc-028a-43c0-a8d9-1db80f68e574",
   "metadata": {
    "tags": []
   },
   "outputs": [
    {
     "data": {
      "text/html": [
       "<div>\n",
       "<style scoped>\n",
       "    .dataframe tbody tr th:only-of-type {\n",
       "        vertical-align: middle;\n",
       "    }\n",
       "\n",
       "    .dataframe tbody tr th {\n",
       "        vertical-align: top;\n",
       "    }\n",
       "\n",
       "    .dataframe thead th {\n",
       "        text-align: right;\n",
       "    }\n",
       "</style>\n",
       "<table border=\"1\" class=\"dataframe\">\n",
       "  <thead>\n",
       "    <tr style=\"text-align: right;\">\n",
       "      <th></th>\n",
       "      <th>Unnamed: 0</th>\n",
       "      <th>index</th>\n",
       "      <th>customer_id</th>\n",
       "      <th>num_cust</th>\n",
       "      <th>event</th>\n",
       "      <th>time_stamp</th>\n",
       "      <th>day</th>\n",
       "      <th>hour</th>\n",
       "    </tr>\n",
       "  </thead>\n",
       "  <tbody>\n",
       "    <tr>\n",
       "      <th>0</th>\n",
       "      <td>0</td>\n",
       "      <td>981</td>\n",
       "      <td>327</td>\n",
       "      <td>0</td>\n",
       "      <td>Arrival</td>\n",
       "      <td>3608.653189</td>\n",
       "      <td>1</td>\n",
       "      <td>1</td>\n",
       "    </tr>\n",
       "    <tr>\n",
       "      <th>1</th>\n",
       "      <td>1</td>\n",
       "      <td>982</td>\n",
       "      <td>327</td>\n",
       "      <td>1</td>\n",
       "      <td>Enter_service</td>\n",
       "      <td>3608.653189</td>\n",
       "      <td>1</td>\n",
       "      <td>1</td>\n",
       "    </tr>\n",
       "    <tr>\n",
       "      <th>2</th>\n",
       "      <td>2</td>\n",
       "      <td>983</td>\n",
       "      <td>327</td>\n",
       "      <td>0</td>\n",
       "      <td>Departure</td>\n",
       "      <td>3609.497913</td>\n",
       "      <td>1</td>\n",
       "      <td>1</td>\n",
       "    </tr>\n",
       "    <tr>\n",
       "      <th>3</th>\n",
       "      <td>3</td>\n",
       "      <td>984</td>\n",
       "      <td>328</td>\n",
       "      <td>0</td>\n",
       "      <td>Arrival</td>\n",
       "      <td>3609.790566</td>\n",
       "      <td>1</td>\n",
       "      <td>1</td>\n",
       "    </tr>\n",
       "    <tr>\n",
       "      <th>4</th>\n",
       "      <td>4</td>\n",
       "      <td>985</td>\n",
       "      <td>328</td>\n",
       "      <td>1</td>\n",
       "      <td>Enter_service</td>\n",
       "      <td>3609.790566</td>\n",
       "      <td>1</td>\n",
       "      <td>1</td>\n",
       "    </tr>\n",
       "  </tbody>\n",
       "</table>\n",
       "</div>"
      ],
      "text/plain": [
       "   Unnamed: 0  index  customer_id  num_cust          event   time_stamp  day  \\\n",
       "0           0    981          327         0        Arrival  3608.653189    1   \n",
       "1           1    982          327         1  Enter_service  3608.653189    1   \n",
       "2           2    983          327         0      Departure  3609.497913    1   \n",
       "3           3    984          328         0        Arrival  3609.790566    1   \n",
       "4           4    985          328         1  Enter_service  3609.790566    1   \n",
       "\n",
       "   hour  \n",
       "0     1  \n",
       "1     1  \n",
       "2     1  \n",
       "3     1  \n",
       "4     1  "
      ]
     },
     "execution_count": 6,
     "metadata": {},
     "output_type": "execute_result"
    }
   ],
   "source": [
    "df_tot = pkl.load(open(r'C:\\Users\\user\\workspace\\Bayesian_programming\\Project\\data\\df_tot3.pkl', 'rb'))\n",
    "df_tot.head(5)"
   ]
  },
  {
   "cell_type": "markdown",
   "id": "6719c646-7b37-43e7-ab54-7b9eda0b0381",
   "metadata": {
    "tags": []
   },
   "source": [
    "## Tasks:\n",
    "\n",
    "### 1. Extract the mean service times (taking the average time is sufficient, no need  for extra bayesian analysis) per each cell you do have data.\n",
    "### 2. Use two regression methods for completing the average service time for the rest of the grid.\n",
    "### 3. Plot on a 3D plot which contains the data, and the surface of the two regression methods.\n",
    "### 4. What is the probability that the service time of chip, between 16:00 to 18:00, on Shabbat, will be between 6 to 7 seconds? \n",
    "### 5. Please give full specification of the Gauusian distribution of the service time on Sunday between 14:00 to 15:00 and Sunday between 16:00 to 17:00. \n",
    "### 6. What is the correlation between the service times at Sunday between 14:00 to 15:00 and Sunday between 16:00 to 17:00?\n",
    "### What is the correlation between the service times at Sunday between 14:00 to 15:00 and Sunday between 20:00 to 21:00?\n",
    "### Which correlation value is larger? does this result make sense?\n"
   ]
  },
  {
   "cell_type": "markdown",
   "id": "e6eba2ba-9743-4b1e-b306-dec33a96535b",
   "metadata": {},
   "source": [
    "## You code here"
   ]
  },
  {
   "cell_type": "code",
   "execution_count": null,
   "id": "4dcc9d13-3dbe-4b36-b5ff-9902fdee40e7",
   "metadata": {},
   "outputs": [],
   "source": []
  },
  {
   "cell_type": "code",
   "execution_count": null,
   "id": "a9f3df94-7306-40ba-b07f-d976dcd81bd9",
   "metadata": {},
   "outputs": [],
   "source": []
  },
  {
   "cell_type": "code",
   "execution_count": null,
   "id": "434fda59-47f3-480f-ac89-f31298de739c",
   "metadata": {},
   "outputs": [],
   "source": []
  },
  {
   "cell_type": "code",
   "execution_count": null,
   "id": "464a9313-822a-4201-9495-666b36c6478e",
   "metadata": {},
   "outputs": [],
   "source": []
  },
  {
   "cell_type": "markdown",
   "id": "2beb2e1f-ff16-4faa-963f-69f0ff2528d6",
   "metadata": {},
   "source": []
  },
  {
   "cell_type": "markdown",
   "id": "874e8bf9-0b54-49c2-ac8a-a118146157a6",
   "metadata": {},
   "source": [
    "## Task 3:\n",
    "\n",
    "### For cross validation of the previuos task we wish to see how accurate our predictions. \n",
    "\n",
    "### We use your prediction to estimate the waiting times at each points via simulation. The better the estimation made in you GP regressior the more accurate the simulations results. \n",
    "\n",
    "### In this part we compare the average waiting time at each cell with the true average waiting times. The true values are loaded below into 'true_results'. \n"
   ]
  },
  {
   "cell_type": "code",
   "execution_count": 8,
   "id": "00813171-37e1-4cf0-aad2-8715390e691c",
   "metadata": {},
   "outputs": [
    {
     "data": {
      "text/plain": [
       "((167,), array([0. , 0.1, 0. , 0. , 0.1]))"
      ]
     },
     "execution_count": 8,
     "metadata": {},
     "output_type": "execute_result"
    }
   ],
   "source": [
    "true_results = pkl.load(open('./data/true_results.pkl', 'rb'))\n",
    "true_results.shape, true_results[:5]"
   ]
  },
  {
   "cell_type": "markdown",
   "id": "3e5de2d0-f6be-4746-a4b5-745c4dbdb04c",
   "metadata": {},
   "source": [
    "### In true_results you have a numpy array with 167 values. The first value is the  average number of customers in the system at the end of the hour 0 day 1, the second is hour 1 day 1, and so on. This is an averge of 200 simulation runs. Note that the grid contains 168 values but here we have only 167. This means, we do not test for 23:00-0:00 at the day 7 (from technincal reasons).\n",
    "\n",
    "### In order to compute your waiting time predictions insert your predicitons into Sim_func below. Then, the line of code below extracts the average waiting time predictions into the variable  'preds_results'.\n",
    "\n",
    "### At this point you have two vectors of size (167,),  one represents the true average waiting times and the other represent your predicitons. \n",
    "\n",
    "### The first value represents the average waiting time at Sunday between 0:00-01:00. The 50th cell represent the average waiting time at Tuesday between 01:00 to 02:00. \n",
    "\n",
    "## Tasks\n",
    "\n",
    "### 1. Compute the average waiting times using the function Sim_func. Compare your results between your predictions and the ground truth using MSE. \n",
    "\n",
    "### 2. Plot the average waiting as a function of time of the week. That is, y-axis is the average waiting time and the X-axis is the hour of the week. Following the exmaple from above Tuesday between 01:00 to 02:00 is the 50th hour. \n"
   ]
  },
  {
   "cell_type": "code",
   "execution_count": null,
   "id": "6cc398af-6800-4070-b1c0-46f3bbdb10e9",
   "metadata": {},
   "outputs": [],
   "source": [
    "## Insert your predictions her\n",
    "\n",
    "df_  = Sim_func(YOUR_PREDICTION)\n",
    "## Converting the simulation results into a numpy array from a PD dataframe.\n",
    "preds_results = np.array(df_.iloc[:,2:]).mean(axis = 1)\n"
   ]
  },
  {
   "cell_type": "code",
   "execution_count": null,
   "id": "2d100cf1-7471-4dd2-b5a6-987d6d4fdb33",
   "metadata": {},
   "outputs": [],
   "source": [
    "### Your code here"
   ]
  },
  {
   "cell_type": "code",
   "execution_count": null,
   "id": "9c3ec7a9-2d60-4f78-96b0-d8fa9007d268",
   "metadata": {},
   "outputs": [],
   "source": []
  },
  {
   "cell_type": "code",
   "execution_count": null,
   "id": "9d0e4bc2-eab4-4a70-8e67-d524f691a044",
   "metadata": {},
   "outputs": [],
   "source": []
  },
  {
   "cell_type": "code",
   "execution_count": null,
   "id": "2a8eefca-51fb-4da1-8f87-f13c7969413f",
   "metadata": {},
   "outputs": [],
   "source": []
  }
 ],
 "metadata": {
  "kernelspec": {
   "display_name": "pymc",
   "language": "python",
   "name": "myenv"
  },
  "language_info": {
   "codemirror_mode": {
    "name": "ipython",
    "version": 3
   },
   "file_extension": ".py",
   "mimetype": "text/x-python",
   "name": "python",
   "nbconvert_exporter": "python",
   "pygments_lexer": "ipython3",
   "version": "3.11.5"
  }
 },
 "nbformat": 4,
 "nbformat_minor": 5
}
