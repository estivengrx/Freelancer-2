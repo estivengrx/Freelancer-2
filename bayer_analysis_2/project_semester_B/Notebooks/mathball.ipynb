{
 "cells": [
  {
   "cell_type": "markdown",
   "metadata": {},
   "source": [
    "##  Congratulations, you are now hired as a sport analytic. Your job is to give prediciton for the next Mathball tournament of the Six finest mathematicians in the world, which is a competition between Laplace, Gauss, Newton, Euler, Leibniz, Von-Neumann."
   ]
  },
  {
   "cell_type": "markdown",
   "metadata": {},
   "source": [
    "## The mathball is just like football where a player a goal is legal only after scoring you answer correctly a math question. "
   ]
  },
  {
   "cell_type": "markdown",
   "metadata": {},
   "source": [
    "## Motivation:  \n",
    "### We want to infer a latent parameter - that is the 'strength' of a mathematician based only on their **scoring intensity**, and all we have are their scores and results, we can't accurately measure the 'strength' of a team.\n"
   ]
  },
  {
   "cell_type": "code",
   "execution_count": 1,
   "metadata": {
    "tags": []
   },
   "outputs": [
    {
     "name": "stderr",
     "output_type": "stream",
     "text": [
      "WARNING (pytensor.configdefaults): g++ not available, if using conda: `conda install m2w64-toolchain`\n",
      "WARNING (pytensor.configdefaults): g++ not detected!  PyTensor will be unable to compile C-implementations and will default to Python. Performance may be severely degraded. To remove this warning, set PyTensor flags cxx to an empty string.\n",
      "WARNING (pytensor.tensor.blas): Using NumPy C-API based implementation for BLAS functions.\n"
     ]
    }
   ],
   "source": [
    "# imports\n",
    "import arviz as az\n",
    "import matplotlib.pyplot as plt\n",
    "import numpy as np\n",
    "import pandas as pd\n",
    "import pymc as pm\n",
    "import seaborn as sns\n",
    "import pickle as pkl"
   ]
  },
  {
   "cell_type": "markdown",
   "metadata": {},
   "source": [
    "## The input   looks like as follows: "
   ]
  },
  {
   "cell_type": "code",
   "execution_count": 2,
   "metadata": {
    "tags": []
   },
   "outputs": [
    {
     "data": {
      "text/html": [
       "<div>\n",
       "<style scoped>\n",
       "    .dataframe tbody tr th:only-of-type {\n",
       "        vertical-align: middle;\n",
       "    }\n",
       "\n",
       "    .dataframe tbody tr th {\n",
       "        vertical-align: top;\n",
       "    }\n",
       "\n",
       "    .dataframe thead th {\n",
       "        text-align: right;\n",
       "    }\n",
       "</style>\n",
       "<table border=\"1\" class=\"dataframe\">\n",
       "  <thead>\n",
       "    <tr style=\"text-align: right;\">\n",
       "      <th></th>\n",
       "      <th>home_player</th>\n",
       "      <th>away_player</th>\n",
       "      <th>home_score</th>\n",
       "      <th>away_score</th>\n",
       "      <th>year</th>\n",
       "    </tr>\n",
       "  </thead>\n",
       "  <tbody>\n",
       "    <tr>\n",
       "      <th>0</th>\n",
       "      <td>Newton</td>\n",
       "      <td>Leibniz</td>\n",
       "      <td>31</td>\n",
       "      <td>10</td>\n",
       "      <td>1897</td>\n",
       "    </tr>\n",
       "    <tr>\n",
       "      <th>1</th>\n",
       "      <td>Von-Neumann</td>\n",
       "      <td>Newton</td>\n",
       "      <td>29</td>\n",
       "      <td>6</td>\n",
       "      <td>1897</td>\n",
       "    </tr>\n",
       "    <tr>\n",
       "      <th>2</th>\n",
       "      <td>Von-Neumann</td>\n",
       "      <td>Leibniz</td>\n",
       "      <td>23</td>\n",
       "      <td>15</td>\n",
       "      <td>1897</td>\n",
       "    </tr>\n",
       "    <tr>\n",
       "      <th>3</th>\n",
       "      <td>Leibniz</td>\n",
       "      <td>Laplace</td>\n",
       "      <td>20</td>\n",
       "      <td>21</td>\n",
       "      <td>1897</td>\n",
       "    </tr>\n",
       "    <tr>\n",
       "      <th>4</th>\n",
       "      <td>Newton</td>\n",
       "      <td>Euler</td>\n",
       "      <td>26</td>\n",
       "      <td>24</td>\n",
       "      <td>1897</td>\n",
       "    </tr>\n",
       "  </tbody>\n",
       "</table>\n",
       "</div>"
      ],
      "text/plain": [
       "   home_player away_player  home_score  away_score  year\n",
       "0       Newton     Leibniz          31          10  1897\n",
       "1  Von-Neumann      Newton          29           6  1897\n",
       "2  Von-Neumann     Leibniz          23          15  1897\n",
       "3      Leibniz     Laplace          20          21  1897\n",
       "4       Newton       Euler          26          24  1897"
      ]
     },
     "execution_count": 2,
     "metadata": {},
     "output_type": "execute_result"
    }
   ],
   "source": [
    "group = 8\n",
    "df_all  = pkl.load(open('../data_mathball/mathball_data_group_' + str(group)+ '.pkl', 'rb'))\n",
    "df_all.head()"
   ]
  },
  {
   "cell_type": "markdown",
   "metadata": {},
   "source": [
    "## We have home and away team, we have score and year. "
   ]
  },
  {
   "cell_type": "markdown",
   "metadata": {},
   "source": [
    "## What do we want to infer?\n",
    "\n",
    "### We want to infer the latent parameters (every mathematian's strength) that are generating the data we observe (the scorelines).\n",
    "### Moreover, we know that the scorelines are a noisy measurement of team strength, so ideally, we want a model that makes it easy to quantify our uncertainty about the underlying strengths.\n",
    "\n",
    "## What do we want?\n",
    "\n",
    "### We want to quantify our uncertainty\n",
    "### We want to also use this to generate a model\n",
    "### We want the answers as distributions not point estimates"
   ]
  },
  {
   "cell_type": "markdown",
   "metadata": {},
   "source": [
    "## Part 1\n",
    "\n",
    "### We next do some exploratory data analysis. The idea is to get a general sense of what is going on.\n",
    "\n",
    "## Tasks\n",
    "\n",
    "### 1. Plot a bar chart of the goal difference (i.e., total scored minus total scored against) per mathematician. Who is the best mathematician and who is the worst according to this plot?\n",
    "### 2. Plot the same bar chart for each mathematician  as a function of time. Do you see a monote behvaoir which implies an improvement or the other way around for one of mathematician?\n",
    "### 3. Choose your favorite mathematician, compare the goal difference between home and away games. Is he better in home or away games? Plot a bar chart of the goal difference for both home and away games.\n",
    "### 4. Which mathematician has the best median away results? (that is, for each mathematician go over all of his away games, compute his scoring difference (how much he scored minues got scored against) and compute the median value). "
   ]
  },
  {
   "cell_type": "markdown",
   "metadata": {},
   "source": [
    "Euler is the best performer considering both home and away matches, on the opposite, Leibniz is the worst, with a goal difference poor in both home and away matches."
   ]
  },
  {
   "cell_type": "code",
   "execution_count": 3,
   "metadata": {},
   "outputs": [
    {
     "data": {
      "image/png": "[encoded data removed]",
      "text/plain": [
       "<Figure size 1000x600 with 1 Axes>"
      ]
     },
     "metadata": {},
     "output_type": "display_data"
    }
   ],
   "source": [
    "# Task 1\n",
    "\n",
    "from matplotlib.patches import Patch\n",
    "\n",
    "# Calculating goal difference per mathematician\n",
    "df_all['home_goal_diff'] = df_all['home_score'] - df_all['away_score']\n",
    "df_all['away_goal_diff'] = df_all['away_score'] - df_all['home_score']\n",
    "\n",
    "# Group by mathematician and sum the goal difference\n",
    "home_goal_diff = df_all.groupby('home_player')['home_goal_diff'].sum().reset_index()\n",
    "away_goal_diff = df_all.groupby('away_player')['away_goal_diff'].sum().reset_index()\n",
    "goal_diff = home_goal_diff.set_index('home_player').add(away_goal_diff.set_index('away_player'), fill_value=0)\n",
    "goal_diff = goal_diff.sort_values(by='away_goal_diff', ascending=False) # Sorting by away goal difference\n",
    "\n",
    "# The bar chart\n",
    "goal_diff.plot(kind='bar', figsize=(10, 6))\n",
    "plt.title('Goal difference per mathematician', fontsize=14)\n",
    "plt.xlabel('Mathematician', fontsize=12)\n",
    "plt.ylabel('Total goal difference', fontsize=12)\n",
    "plt.xticks(rotation=45, ha='right')\n",
    "plt.grid(axis='y', linestyle='--')\n",
    "legend_elements = [Patch(facecolor='#ff7f0e', label='Home goal difference'),\n",
    "                   Patch(facecolor='#1f77b4', label='Away goal difference')]\n",
    "plt.legend(handles=legend_elements, loc='upper left')\n",
    "\n",
    "plt.tight_layout()\n",
    "plt.show()\n",
    "plt.show()"
   ]
  },
  {
   "cell_type": "markdown",
   "metadata": {},
   "source": [
    "The only monote behaviour that the graph shows is the one from Laplace, he is consisten in its way to win the matches through the years. The rest of the players mantain a varying sum of the goal difference throught the years, which does not make them monote"
   ]
  },
  {
   "cell_type": "code",
   "execution_count": 4,
   "metadata": {},
   "outputs": [
    {
     "data": {
      "text/plain": [
       "<Figure size 1400x800 with 0 Axes>"
      ]
     },
     "metadata": {},
     "output_type": "display_data"
    },
    {
     "data": {
      "image/png": "[encoded data removed]",
      "text/plain": [
       "<Figure size 1000x600 with 1 Axes>"
      ]
     },
     "metadata": {},
     "output_type": "display_data"
    }
   ],
   "source": [
    "# Task 2\n",
    "\n",
    "# Calculating the goal difference per year for each mathematician grouped by home and away players\n",
    "df_all['year'] = pd.to_datetime(df_all['year'], format='%Y').dt.year\n",
    "home_yearly_goal_diff = df_all.groupby(['home_player', 'year'])['home_goal_diff'].sum().reset_index()\n",
    "away_yearly_goal_diff = df_all.groupby(['away_player', 'year'])['away_goal_diff'].sum().reset_index()\n",
    "# Renaming columns\n",
    "home_yearly_goal_diff.columns = ['player', 'year', 'goal_diff']\n",
    "away_yearly_goal_diff.columns = ['player', 'year', 'goal_diff']\n",
    "\n",
    "# Combining home and away goal differences and group by player and year to make the graph\n",
    "yearly_goal_diff = pd.concat([home_yearly_goal_diff, away_yearly_goal_diff]).groupby(['player', 'year']).sum().reset_index()\n",
    "\n",
    "# Unique players and years for plotting\n",
    "players = yearly_goal_diff['player'].unique()\n",
    "years = sorted(yearly_goal_diff['year'].unique())\n",
    "n_players = len(players)\n",
    "colors = plt.cm.rainbow(np.linspace(0, 1, n_players))  # Assigning a unique color to each player\n",
    "\n",
    "# Graph\n",
    "plt.figure(figsize=(14, 8))\n",
    "\n",
    "# Pivot table of the DataFrame to get years as the index, players as columns, and goal differences as values and graph\n",
    "pivoted_data = yearly_goal_diff.pivot(index='year', columns='player', values='goal_diff')\n",
    "ax = pivoted_data.plot(kind='bar', width=0.8, figsize=(10, 6), colormap='viridis') # Plot of the pivoted data\n",
    "plt.xticks(rotation=45)\n",
    "plt.title('Yearly goal difference by player')\n",
    "plt.xlabel('Year')\n",
    "plt.ylabel('Goal difference')\n",
    "plt.legend(title='Player')\n",
    "plt.tight_layout()\n",
    "plt.grid(axis='y', linestyle='--')\n",
    "plt.show()"
   ]
  },
  {
   "cell_type": "markdown",
   "metadata": {},
   "source": [
    "My favorite player, Euler, is better at home gamesn away games, based on the graph. The bar for the home goal difference is higher than the away bar"
   ]
  },
  {
   "cell_type": "code",
   "execution_count": 5,
   "metadata": {},
   "outputs": [
    {
     "data": {
      "image/png": "[encoded data removed]",
      "text/plain": [
       "<Figure size 800x600 with 1 Axes>"
      ]
     },
     "metadata": {},
     "output_type": "display_data"
    }
   ],
   "source": [
    "# Task 3\n",
    "\n",
    "favorite_mathematician = 'Euler'\n",
    "\n",
    "# Calculatibg home and away goal difference for the favorite mathematician\n",
    "home_goal_diff_fav = df_all[df_all['home_player'] == favorite_mathematician]['home_goal_diff'].sum()\n",
    "away_goal_diff_fav = df_all[df_all['away_player'] == favorite_mathematician]['away_goal_diff'].sum()\n",
    "\n",
    "goal_diff_fav = pd.DataFrame({\n",
    "    'Location': ['Home', 'Away'],\n",
    "    'Goal difference': [home_goal_diff_fav, away_goal_diff_fav]\n",
    "})\n",
    "\n",
    "# Plotting\n",
    "plt.figure(figsize=(8, 6))\n",
    "barplot = sns.barplot(x='Location', y='Goal difference', data=goal_diff_fav, palette='rainbow')\n",
    "plt.title(f'Goal difference for {favorite_mathematician} at home and away Games')\n",
    "plt.xlabel('Game location')\n",
    "plt.ylabel('Goal difference')\n",
    "plt.xticks(rotation=45)\n",
    "plt.tight_layout()\n",
    "plt.grid(axis='y', linestyle='--')\n",
    "plt.show()"
   ]
  },
  {
   "cell_type": "code",
   "execution_count": 6,
   "metadata": {},
   "outputs": [
    {
     "name": "stdout",
     "output_type": "stream",
     "text": [
      "The mathematician with the best median away results is Euler with a median away goal difference of 5.5.\n"
     ]
    }
   ],
   "source": [
    "# Task 4\n",
    "\n",
    "# Calculating the median away goal difference for each mathematician\n",
    "median_away_goal_diff = df_all.groupby('away_player')['away_goal_diff'].median().reset_index()\n",
    "median_away_goal_diff.columns = ['mathematician', 'median_away_goal_diff']\n",
    "\n",
    "# Determining the mathematician with the highest median away goal difference with a simple conditional statement\n",
    "best_median_away_mathematician = median_away_goal_diff.loc[median_away_goal_diff['median_away_goal_diff'].idxmax()]\n",
    "print(f\"The mathematician with the best median away results is {best_median_away_mathematician['mathematician']} with a median away goal difference of {best_median_away_mathematician['median_away_goal_diff']}.\")"
   ]
  },
  {
   "cell_type": "markdown",
   "metadata": {},
   "source": [
    "## Part 2"
   ]
  },
  {
   "cell_type": "markdown",
   "metadata": {},
   "source": [
    "## What assumptions do we know for our mathball competition?\n",
    "\n",
    "### We know that there are 6 mathematicians, each year all possible pairs playes once.  \n",
    "### We have data from the last few years\n",
    "### We also know that in sports scoring is modelled as a Poisson distribution (even in mathball)\n",
    "### We consider home advantage to be a strong effect in sports "
   ]
  },
  {
   "cell_type": "markdown",
   "metadata": {
    "tags": []
   },
   "source": [
    "## The model.\n",
    "\n",
    "### The league is made up by a total of T= 6 mathematicians, playing each other once in a season.\n",
    "\n",
    "### We indicate the number of goals scored by the home and the away player in the g-th game of the season (15 games) as $y_{g1}$ and $y_{g2}$ respectively. </p>\n",
    "### The vector of observed goal counts $\\mathbb{y} = (y_{g1}, y_{g2})$ is modelled as independent Poisson:\n",
    "## $$y_{gj}| \\theta_{gj} \\tilde\\;\\;  Poisson(\\theta_{gj})$$\n",
    "### where the theta parameters represent the scoring intensity in the g-th game for the team playing at home (j=1) and away (j=2), respectively.</p>"
   ]
  },
  {
   "cell_type": "markdown",
   "metadata": {},
   "source": [
    "## We model these parameters according to a formulation that has been used widely in the statistical literature, assuming a log-linear random effect model:\n",
    "### $$ log \\theta_{g1} = intercept + home + \\hat{att}_{h(g)} + \\hat{def}_{a(g)} $$\n",
    "### $$ log \\theta_{g2} = intercept + \\hat{att}_{a(g)} + \\hat{def}_{h(g)}$$\n",
    "\n",
    "\n",
    "## Alternitevly: \n",
    "\n",
    "### $$  \\theta_{g1} = e^{intercept + home + \\hat{att}_{h(g)} + \\hat{def}_{a(g)}} $$\n",
    "### $$  \\theta_{g2} = e^{intercept + \\hat{att}_{a(g)} + \\hat{def}_{h(g)}}$$\n",
    "\n",
    "### $\\hat{att}_{h(g)}$ is the attack effect of a player. \n",
    "### $\\hat{def}_{h(g)}$ is the attack effect of a player. \n",
    "\n",
    "### For mathematician  i = 1, ..., 6, both  $\\hat{att}_{i}$ and $\\hat{def}_{i}$ are normalized values, fomrally:\n",
    "\n",
    "### $$ \\hat{att}_{i} = att_i - \\bar{att} $$\n",
    "### $$ \\hat{def}_{i} = att_i - \\bar{def} $$\n",
    "\n",
    "where, \n",
    "\n",
    "### $$ \\bar{att}  = \\frac{\\sum_{i=1}^6 att_i}{6} $$\n",
    "### $$ \\bar{def}  = \\frac{\\sum_{i=1}^6 def_i}{6} $$\n",
    "\n",
    "### Just for clarification: suppose we index mathematicians as follows:\n",
    "### 1: Laplace\n",
    "### 2: Gauss\n",
    "### 3: Newton\n",
    "### 4: Euler\n",
    "### 5: Leibniz\n",
    "### 6: Von-Neumann\n",
    "\n",
    "### Now, suppose the first game is Laplace hosting Gauss (the clash of the titans).\n",
    "### Thus, $h(1) = 1 $ (i.e.,Laplace ) and $a(1) = 2 $ (i.e., Gauss). \n",
    "\n",
    "### The parameter home represents the advantage for the team hosting the game and we assume that this effect is constant for all the teams and throughout the season\n",
    "### The scoring intensity is determined jointly by the attack and defense ability of the two teams involved, represented by the parameters att and def, respectively\n",
    "\n",
    "### Conversely, for each i = 1, ..., 6, the player-specific effects are modelled as exchangeable from a common distribution:\n",
    "\n",
    "### $att_{i} \\; \\tilde\\;\\; Normal(0,\\tau_{att})$ and $def_{i} \\; \\tilde\\;\\;Normal(0,\\tau_{def})$\n",
    "\n",
    "### The log function to away scores and home scores is a standard trick in the sports analytics literature"
   ]
  },
  {
   "cell_type": "markdown",
   "metadata": {
    "tags": []
   },
   "source": [
    "## Tasks\n",
    "\n",
    "### 1. Build a Hierarchical model with PyMc where you obtain a posterior of the latent variables: $home$, $att_i$,  $def_i$ for $i = \\{1,2,3,4,5,6\\} $ and $intercept$. \n",
    "### Remark: Set the MCMC configuration regarding the number of draws, such that there will 4000 samples in total.\n",
    "\n",
    "## guidence: \n",
    "###  For the Hierarchical model, connect the different players (mathematicians) only via the attack and defence std (i.e., $\\tau_{att}$ and $\\tau_{def}$) and not the mean value. "
   ]
  },
  {
   "cell_type": "markdown",
   "metadata": {},
   "source": [
    "## Indexing the data for the pymc model"
   ]
  },
  {
   "cell_type": "code",
   "execution_count": 7,
   "metadata": {
    "tags": []
   },
   "outputs": [
    {
     "data": {
      "text/html": [
       "<div>\n",
       "<style scoped>\n",
       "    .dataframe tbody tr th:only-of-type {\n",
       "        vertical-align: middle;\n",
       "    }\n",
       "\n",
       "    .dataframe tbody tr th {\n",
       "        vertical-align: top;\n",
       "    }\n",
       "\n",
       "    .dataframe thead th {\n",
       "        text-align: right;\n",
       "    }\n",
       "</style>\n",
       "<table border=\"1\" class=\"dataframe\">\n",
       "  <thead>\n",
       "    <tr style=\"text-align: right;\">\n",
       "      <th></th>\n",
       "      <th>home_player</th>\n",
       "      <th>away_player</th>\n",
       "      <th>home_score</th>\n",
       "      <th>away_score</th>\n",
       "      <th>year</th>\n",
       "      <th>home_goal_diff</th>\n",
       "      <th>away_goal_diff</th>\n",
       "    </tr>\n",
       "  </thead>\n",
       "  <tbody>\n",
       "    <tr>\n",
       "      <th>0</th>\n",
       "      <td>Newton</td>\n",
       "      <td>Leibniz</td>\n",
       "      <td>31</td>\n",
       "      <td>10</td>\n",
       "      <td>1897</td>\n",
       "      <td>21</td>\n",
       "      <td>-21</td>\n",
       "    </tr>\n",
       "    <tr>\n",
       "      <th>1</th>\n",
       "      <td>Von-Neumann</td>\n",
       "      <td>Newton</td>\n",
       "      <td>29</td>\n",
       "      <td>6</td>\n",
       "      <td>1897</td>\n",
       "      <td>23</td>\n",
       "      <td>-23</td>\n",
       "    </tr>\n",
       "    <tr>\n",
       "      <th>2</th>\n",
       "      <td>Von-Neumann</td>\n",
       "      <td>Leibniz</td>\n",
       "      <td>23</td>\n",
       "      <td>15</td>\n",
       "      <td>1897</td>\n",
       "      <td>8</td>\n",
       "      <td>-8</td>\n",
       "    </tr>\n",
       "    <tr>\n",
       "      <th>3</th>\n",
       "      <td>Leibniz</td>\n",
       "      <td>Laplace</td>\n",
       "      <td>20</td>\n",
       "      <td>21</td>\n",
       "      <td>1897</td>\n",
       "      <td>-1</td>\n",
       "      <td>1</td>\n",
       "    </tr>\n",
       "    <tr>\n",
       "      <th>4</th>\n",
       "      <td>Newton</td>\n",
       "      <td>Euler</td>\n",
       "      <td>26</td>\n",
       "      <td>24</td>\n",
       "      <td>1897</td>\n",
       "      <td>2</td>\n",
       "      <td>-2</td>\n",
       "    </tr>\n",
       "  </tbody>\n",
       "</table>\n",
       "</div>"
      ],
      "text/plain": [
       "   home_player away_player  home_score  away_score  year  home_goal_diff  \\\n",
       "0       Newton     Leibniz          31          10  1897              21   \n",
       "1  Von-Neumann      Newton          29           6  1897              23   \n",
       "2  Von-Neumann     Leibniz          23          15  1897               8   \n",
       "3      Leibniz     Laplace          20          21  1897              -1   \n",
       "4       Newton       Euler          26          24  1897               2   \n",
       "\n",
       "   away_goal_diff  \n",
       "0             -21  \n",
       "1             -23  \n",
       "2              -8  \n",
       "3               1  \n",
       "4              -2  "
      ]
     },
     "execution_count": 7,
     "metadata": {},
     "output_type": "execute_result"
    }
   ],
   "source": [
    "df_all.head()"
   ]
  },
  {
   "cell_type": "code",
   "execution_count": 8,
   "metadata": {
    "tags": []
   },
   "outputs": [],
   "source": [
    "## for your convinience we have here the home and away index with respect to df_all.\n",
    "home_idx, teams = pd.factorize(df_all[\"home_player\"], sort=True)\n",
    "away_idx, _ = pd.factorize(df_all[\"away_player\"], sort=True)"
   ]
  },
  {
   "cell_type": "code",
   "execution_count": 9,
   "metadata": {
    "tags": []
   },
   "outputs": [
    {
     "data": {
      "text/html": [
       "<div>\n",
       "<style scoped>\n",
       "    .dataframe tbody tr th:only-of-type {\n",
       "        vertical-align: middle;\n",
       "    }\n",
       "\n",
       "    .dataframe tbody tr th {\n",
       "        vertical-align: top;\n",
       "    }\n",
       "\n",
       "    .dataframe thead th {\n",
       "        text-align: right;\n",
       "    }\n",
       "</style>\n",
       "<table border=\"1\" class=\"dataframe\">\n",
       "  <thead>\n",
       "    <tr style=\"text-align: right;\">\n",
       "      <th></th>\n",
       "      <th>home_player</th>\n",
       "      <th>away_player</th>\n",
       "      <th>home_score</th>\n",
       "      <th>away_score</th>\n",
       "      <th>year</th>\n",
       "      <th>home_goal_diff</th>\n",
       "      <th>away_goal_diff</th>\n",
       "    </tr>\n",
       "  </thead>\n",
       "  <tbody>\n",
       "    <tr>\n",
       "      <th>0</th>\n",
       "      <td>Newton</td>\n",
       "      <td>Leibniz</td>\n",
       "      <td>31</td>\n",
       "      <td>10</td>\n",
       "      <td>1897</td>\n",
       "      <td>21</td>\n",
       "      <td>-21</td>\n",
       "    </tr>\n",
       "    <tr>\n",
       "      <th>1</th>\n",
       "      <td>Von-Neumann</td>\n",
       "      <td>Newton</td>\n",
       "      <td>29</td>\n",
       "      <td>6</td>\n",
       "      <td>1897</td>\n",
       "      <td>23</td>\n",
       "      <td>-23</td>\n",
       "    </tr>\n",
       "    <tr>\n",
       "      <th>2</th>\n",
       "      <td>Von-Neumann</td>\n",
       "      <td>Leibniz</td>\n",
       "      <td>23</td>\n",
       "      <td>15</td>\n",
       "      <td>1897</td>\n",
       "      <td>8</td>\n",
       "      <td>-8</td>\n",
       "    </tr>\n",
       "    <tr>\n",
       "      <th>3</th>\n",
       "      <td>Leibniz</td>\n",
       "      <td>Laplace</td>\n",
       "      <td>20</td>\n",
       "      <td>21</td>\n",
       "      <td>1897</td>\n",
       "      <td>-1</td>\n",
       "      <td>1</td>\n",
       "    </tr>\n",
       "    <tr>\n",
       "      <th>4</th>\n",
       "      <td>Newton</td>\n",
       "      <td>Euler</td>\n",
       "      <td>26</td>\n",
       "      <td>24</td>\n",
       "      <td>1897</td>\n",
       "      <td>2</td>\n",
       "      <td>-2</td>\n",
       "    </tr>\n",
       "  </tbody>\n",
       "</table>\n",
       "</div>"
      ],
      "text/plain": [
       "   home_player away_player  home_score  away_score  year  home_goal_diff  \\\n",
       "0       Newton     Leibniz          31          10  1897              21   \n",
       "1  Von-Neumann      Newton          29           6  1897              23   \n",
       "2  Von-Neumann     Leibniz          23          15  1897               8   \n",
       "3      Leibniz     Laplace          20          21  1897              -1   \n",
       "4       Newton       Euler          26          24  1897               2   \n",
       "\n",
       "   away_goal_diff  \n",
       "0             -21  \n",
       "1             -23  \n",
       "2              -8  \n",
       "3               1  \n",
       "4              -2  "
      ]
     },
     "execution_count": 9,
     "metadata": {},
     "output_type": "execute_result"
    }
   ],
   "source": [
    "df_all.head()"
   ]
  },
  {
   "cell_type": "code",
   "execution_count": 10,
   "metadata": {
    "tags": []
   },
   "outputs": [
    {
     "data": {
      "text/plain": [
       "array([4, 5, 5, 3, 4, 1, 0, 2, 0, 3, 4, 5, 2, 1, 1, 1, 4, 4, 5, 2, 2, 1,\n",
       "       0, 3, 0, 3, 2, 0, 5, 3, 5, 2, 1, 3, 1, 4, 2, 4, 4, 5, 0, 5, 0, 3,\n",
       "       1, 4, 0, 0, 0, 3, 5, 2, 1, 3, 3, 1, 2, 4, 2, 5], dtype=int64)"
      ]
     },
     "execution_count": 10,
     "metadata": {},
     "output_type": "execute_result"
    }
   ],
   "source": [
    "home_idx"
   ]
  },
  {
   "cell_type": "code",
   "execution_count": 11,
   "metadata": {},
   "outputs": [
    {
     "name": "stderr",
     "output_type": "stream",
     "text": [
      "Auto-assigning NUTS sampler...\n",
      "Initializing NUTS using jitter+adapt_diag...\n",
      "Multiprocess sampling (4 chains in 4 jobs)\n",
      "NUTS: [tau_att, tau_def, intercept, home, att, def]\n"
     ]
    },
    {
     "data": {
      "application/vnd.jupyter.widget-view+json": {
       "model_id": "e1a94ef84db843fe90132cebe588d2a9",
       "version_major": 2,
       "version_minor": 0
      },
      "text/plain": [
       "Output()"
      ]
     },
     "metadata": {},
     "output_type": "display_data"
    },
    {
     "data": {
      "text/html": [
       "<pre style=\"white-space:pre;overflow-x:auto;line-height:normal;font-family:Menlo,'DejaVu Sans Mono',consolas,'Courier New',monospace\"></pre>\n"
      ],
      "text/plain": []
     },
     "metadata": {},
     "output_type": "display_data"
    },
    {
     "data": {
      "text/html": [
       "<pre style=\"white-space:pre;overflow-x:auto;line-height:normal;font-family:Menlo,'DejaVu Sans Mono',consolas,'Courier New',monospace\">\n",
       "</pre>\n"
      ],
      "text/plain": [
       "\n"
      ]
     },
     "metadata": {},
     "output_type": "display_data"
    },
    {
     "name": "stderr",
     "output_type": "stream",
     "text": [
      "Sampling 4 chains for 1_000 tune and 4_000 draw iterations (4_000 + 16_000 draws total) took 1192 seconds.\n"
     ]
    },
    {
     "data": {
      "text/html": [
       "<div>\n",
       "<style scoped>\n",
       "    .dataframe tbody tr th:only-of-type {\n",
       "        vertical-align: middle;\n",
       "    }\n",
       "\n",
       "    .dataframe tbody tr th {\n",
       "        vertical-align: top;\n",
       "    }\n",
       "\n",
       "    .dataframe thead th {\n",
       "        text-align: right;\n",
       "    }\n",
       "</style>\n",
       "<table border=\"1\" class=\"dataframe\">\n",
       "  <thead>\n",
       "    <tr style=\"text-align: right;\">\n",
       "      <th></th>\n",
       "      <th>mean</th>\n",
       "      <th>sd</th>\n",
       "      <th>hdi_3%</th>\n",
       "      <th>hdi_97%</th>\n",
       "      <th>mcse_mean</th>\n",
       "      <th>mcse_sd</th>\n",
       "      <th>ess_bulk</th>\n",
       "      <th>ess_tail</th>\n",
       "      <th>r_hat</th>\n",
       "    </tr>\n",
       "  </thead>\n",
       "  <tbody>\n",
       "    <tr>\n",
       "      <th>intercept</th>\n",
       "      <td>2.907</td>\n",
       "      <td>0.030</td>\n",
       "      <td>2.852</td>\n",
       "      <td>2.963</td>\n",
       "      <td>0.000</td>\n",
       "      <td>0.000</td>\n",
       "      <td>11622.0</td>\n",
       "      <td>10960.0</td>\n",
       "      <td>1.0</td>\n",
       "    </tr>\n",
       "    <tr>\n",
       "      <th>home</th>\n",
       "      <td>0.183</td>\n",
       "      <td>0.039</td>\n",
       "      <td>0.108</td>\n",
       "      <td>0.256</td>\n",
       "      <td>0.000</td>\n",
       "      <td>0.000</td>\n",
       "      <td>11985.0</td>\n",
       "      <td>11360.0</td>\n",
       "      <td>1.0</td>\n",
       "    </tr>\n",
       "    <tr>\n",
       "      <th>att[Euler]</th>\n",
       "      <td>0.258</td>\n",
       "      <td>0.143</td>\n",
       "      <td>-0.005</td>\n",
       "      <td>0.532</td>\n",
       "      <td>0.002</td>\n",
       "      <td>0.002</td>\n",
       "      <td>6342.0</td>\n",
       "      <td>5365.0</td>\n",
       "      <td>1.0</td>\n",
       "    </tr>\n",
       "    <tr>\n",
       "      <th>att[Gauss]</th>\n",
       "      <td>0.116</td>\n",
       "      <td>0.142</td>\n",
       "      <td>-0.155</td>\n",
       "      <td>0.380</td>\n",
       "      <td>0.002</td>\n",
       "      <td>0.002</td>\n",
       "      <td>6350.0</td>\n",
       "      <td>5397.0</td>\n",
       "      <td>1.0</td>\n",
       "    </tr>\n",
       "    <tr>\n",
       "      <th>att[Laplace]</th>\n",
       "      <td>-0.115</td>\n",
       "      <td>0.144</td>\n",
       "      <td>-0.381</td>\n",
       "      <td>0.160</td>\n",
       "      <td>0.002</td>\n",
       "      <td>0.002</td>\n",
       "      <td>6495.0</td>\n",
       "      <td>5336.0</td>\n",
       "      <td>1.0</td>\n",
       "    </tr>\n",
       "    <tr>\n",
       "      <th>att[Leibniz]</th>\n",
       "      <td>-0.343</td>\n",
       "      <td>0.147</td>\n",
       "      <td>-0.630</td>\n",
       "      <td>-0.077</td>\n",
       "      <td>0.002</td>\n",
       "      <td>0.001</td>\n",
       "      <td>6640.0</td>\n",
       "      <td>5741.0</td>\n",
       "      <td>1.0</td>\n",
       "    </tr>\n",
       "    <tr>\n",
       "      <th>att[Newton]</th>\n",
       "      <td>-0.081</td>\n",
       "      <td>0.144</td>\n",
       "      <td>-0.348</td>\n",
       "      <td>0.192</td>\n",
       "      <td>0.002</td>\n",
       "      <td>0.002</td>\n",
       "      <td>6479.0</td>\n",
       "      <td>5477.0</td>\n",
       "      <td>1.0</td>\n",
       "    </tr>\n",
       "    <tr>\n",
       "      <th>att[Von-Neumann]</th>\n",
       "      <td>0.178</td>\n",
       "      <td>0.142</td>\n",
       "      <td>-0.100</td>\n",
       "      <td>0.434</td>\n",
       "      <td>0.002</td>\n",
       "      <td>0.002</td>\n",
       "      <td>6474.0</td>\n",
       "      <td>5612.0</td>\n",
       "      <td>1.0</td>\n",
       "    </tr>\n",
       "    <tr>\n",
       "      <th>def[Euler]</th>\n",
       "      <td>-0.210</td>\n",
       "      <td>0.212</td>\n",
       "      <td>-0.616</td>\n",
       "      <td>0.186</td>\n",
       "      <td>0.004</td>\n",
       "      <td>0.003</td>\n",
       "      <td>3509.0</td>\n",
       "      <td>3468.0</td>\n",
       "      <td>1.0</td>\n",
       "    </tr>\n",
       "    <tr>\n",
       "      <th>def[Gauss]</th>\n",
       "      <td>-0.387</td>\n",
       "      <td>0.214</td>\n",
       "      <td>-0.809</td>\n",
       "      <td>-0.009</td>\n",
       "      <td>0.004</td>\n",
       "      <td>0.003</td>\n",
       "      <td>3497.0</td>\n",
       "      <td>3622.0</td>\n",
       "      <td>1.0</td>\n",
       "    </tr>\n",
       "    <tr>\n",
       "      <th>def[Laplace]</th>\n",
       "      <td>0.172</td>\n",
       "      <td>0.211</td>\n",
       "      <td>-0.207</td>\n",
       "      <td>0.582</td>\n",
       "      <td>0.004</td>\n",
       "      <td>0.003</td>\n",
       "      <td>3359.0</td>\n",
       "      <td>3546.0</td>\n",
       "      <td>1.0</td>\n",
       "    </tr>\n",
       "    <tr>\n",
       "      <th>def[Leibniz]</th>\n",
       "      <td>0.582</td>\n",
       "      <td>0.210</td>\n",
       "      <td>0.186</td>\n",
       "      <td>0.971</td>\n",
       "      <td>0.004</td>\n",
       "      <td>0.003</td>\n",
       "      <td>3403.0</td>\n",
       "      <td>3492.0</td>\n",
       "      <td>1.0</td>\n",
       "    </tr>\n",
       "    <tr>\n",
       "      <th>def[Newton]</th>\n",
       "      <td>-0.043</td>\n",
       "      <td>0.212</td>\n",
       "      <td>-0.434</td>\n",
       "      <td>0.363</td>\n",
       "      <td>0.004</td>\n",
       "      <td>0.003</td>\n",
       "      <td>3440.0</td>\n",
       "      <td>3563.0</td>\n",
       "      <td>1.0</td>\n",
       "    </tr>\n",
       "    <tr>\n",
       "      <th>def[Von-Neumann]</th>\n",
       "      <td>-0.134</td>\n",
       "      <td>0.213</td>\n",
       "      <td>-0.538</td>\n",
       "      <td>0.260</td>\n",
       "      <td>0.004</td>\n",
       "      <td>0.003</td>\n",
       "      <td>3550.0</td>\n",
       "      <td>3484.0</td>\n",
       "      <td>1.0</td>\n",
       "    </tr>\n",
       "  </tbody>\n",
       "</table>\n",
       "</div>"
      ],
      "text/plain": [
       "                   mean     sd  hdi_3%  hdi_97%  mcse_mean  mcse_sd  ess_bulk  \\\n",
       "intercept         2.907  0.030   2.852    2.963      0.000    0.000   11622.0   \n",
       "home              0.183  0.039   0.108    0.256      0.000    0.000   11985.0   \n",
       "att[Euler]        0.258  0.143  -0.005    0.532      0.002    0.002    6342.0   \n",
       "att[Gauss]        0.116  0.142  -0.155    0.380      0.002    0.002    6350.0   \n",
       "att[Laplace]     -0.115  0.144  -0.381    0.160      0.002    0.002    6495.0   \n",
       "att[Leibniz]     -0.343  0.147  -0.630   -0.077      0.002    0.001    6640.0   \n",
       "att[Newton]      -0.081  0.144  -0.348    0.192      0.002    0.002    6479.0   \n",
       "att[Von-Neumann]  0.178  0.142  -0.100    0.434      0.002    0.002    6474.0   \n",
       "def[Euler]       -0.210  0.212  -0.616    0.186      0.004    0.003    3509.0   \n",
       "def[Gauss]       -0.387  0.214  -0.809   -0.009      0.004    0.003    3497.0   \n",
       "def[Laplace]      0.172  0.211  -0.207    0.582      0.004    0.003    3359.0   \n",
       "def[Leibniz]      0.582  0.210   0.186    0.971      0.004    0.003    3403.0   \n",
       "def[Newton]      -0.043  0.212  -0.434    0.363      0.004    0.003    3440.0   \n",
       "def[Von-Neumann] -0.134  0.213  -0.538    0.260      0.004    0.003    3550.0   \n",
       "\n",
       "                  ess_tail  r_hat  \n",
       "intercept          10960.0    1.0  \n",
       "home               11360.0    1.0  \n",
       "att[Euler]          5365.0    1.0  \n",
       "att[Gauss]          5397.0    1.0  \n",
       "att[Laplace]        5336.0    1.0  \n",
       "att[Leibniz]        5741.0    1.0  \n",
       "att[Newton]         5477.0    1.0  \n",
       "att[Von-Neumann]    5612.0    1.0  \n",
       "def[Euler]          3468.0    1.0  \n",
       "def[Gauss]          3622.0    1.0  \n",
       "def[Laplace]        3546.0    1.0  \n",
       "def[Leibniz]        3492.0    1.0  \n",
       "def[Newton]         3563.0    1.0  \n",
       "def[Von-Neumann]    3484.0    1.0  "
      ]
     },
     "execution_count": 11,
     "metadata": {},
     "output_type": "execute_result"
    }
   ],
   "source": [
    "coords = {\"team\": teams, 'game': np.arange(len(df_all))}\n",
    "\n",
    "with pm.Model(coords=coords) as mathball:\n",
    "    # Hyperpriors\n",
    "    tau_att = pm.HalfNormal('tau_att', sigma=1)  # Std dev for attack\n",
    "    tau_def = pm.HalfNormal('tau_def', sigma=1)  # Std dev for defense\n",
    "\n",
    "    # Priors\n",
    "    intercept = pm.Normal('intercept', mu=0, sigma=1)  # Overall intercept\n",
    "    home = pm.Normal('home', mu=0, sigma=1)            # Home advantage effect\n",
    "    \n",
    "    # The attack and defense effects for each team\n",
    "    att = pm.Normal('att', mu=0, sigma=tau_att, dims=\"team\")\n",
    "    def_ = pm.Normal('def', mu=0, sigma=tau_def, dims=\"team\")\n",
    "\n",
    "    # Centering the attack and defense parameters by subtracting their means\n",
    "    att_centered = att - pm.math.mean(att)  # Centering attack\n",
    "    def_centered = def_ - pm.math.mean(def_)  # Centerinbg defense\n",
    "\n",
    "    # Defining the log of the expected goals for home and away teams\n",
    "    rate_home = intercept + home + att_centered[home_idx] + def_centered[away_idx]\n",
    "    rate_away = intercept + att_centered[away_idx] + def_centered[home_idx]\n",
    "\n",
    "    # Converting log rates to expected goals\n",
    "    theta_g1 = pm.Deterministic('theta_g1', pm.math.exp(rate_home))\n",
    "    theta_g2 = pm.Deterministic('theta_g2', pm.math.exp(rate_away))\n",
    "\n",
    "    # Data likelihood\n",
    "    y1_likelihood = pm.Poisson('y1', mu=theta_g1, observed=df_all['home_score'].values, dims='game')  # Home scores with poisson likelihood\n",
    "    y2_likelihood = pm.Poisson('y2', mu=theta_g2, observed=df_all['away_score'].values, dims='game')  # Away scores with poisson likelihood\n",
    "\n",
    "    # Sample from the posterior distribution\n",
    "    trace = pm.sample(draws=4000, tune=1000, return_inferencedata=True)\n",
    "\n",
    "# Summarizing the results the results\n",
    "az.summary(trace, var_names=[\"intercept\", \"home\", \"att\", \"def\"])"
   ]
  },
  {
   "cell_type": "code",
   "execution_count": 12,
   "metadata": {
    "tags": []
   },
   "outputs": [
    {
     "data": {
      "text/plain": [
       "Index(['Euler', 'Gauss', 'Laplace', 'Leibniz', 'Newton', 'Von-Neumann'], dtype='object')"
      ]
     },
     "execution_count": 12,
     "metadata": {},
     "output_type": "execute_result"
    }
   ],
   "source": [
    "teams"
   ]
  },
  {
   "cell_type": "code",
   "execution_count": 13,
   "metadata": {
    "tags": []
   },
   "outputs": [
    {
     "data": {
      "text/plain": [
       "array([3, 4, 3, 2, 0, 3, 1, 4, 5, 0, 1, 2, 0, 5, 2, 4, 2, 5, 1, 3, 1, 0,\n",
       "       3, 4, 4, 5, 5, 2, 0, 1, 2, 0, 2, 2, 3, 1, 4, 3, 0, 4, 5, 3, 1, 0,\n",
       "       5, 5, 3, 4, 2, 1, 0, 5, 0, 4, 5, 4, 3, 2, 1, 1], dtype=int64)"
      ]
     },
     "execution_count": 13,
     "metadata": {},
     "output_type": "execute_result"
    }
   ],
   "source": [
    "away_idx"
   ]
  },
  {
   "cell_type": "code",
   "execution_count": 14,
   "metadata": {
    "tags": []
   },
   "outputs": [
    {
     "data": {
      "text/html": [
       "<div>\n",
       "<style scoped>\n",
       "    .dataframe tbody tr th:only-of-type {\n",
       "        vertical-align: middle;\n",
       "    }\n",
       "\n",
       "    .dataframe tbody tr th {\n",
       "        vertical-align: top;\n",
       "    }\n",
       "\n",
       "    .dataframe thead th {\n",
       "        text-align: right;\n",
       "    }\n",
       "</style>\n",
       "<table border=\"1\" class=\"dataframe\">\n",
       "  <thead>\n",
       "    <tr style=\"text-align: right;\">\n",
       "      <th></th>\n",
       "      <th>home_player</th>\n",
       "      <th>away_player</th>\n",
       "      <th>home_score</th>\n",
       "      <th>away_score</th>\n",
       "      <th>year</th>\n",
       "      <th>home_goal_diff</th>\n",
       "      <th>away_goal_diff</th>\n",
       "    </tr>\n",
       "  </thead>\n",
       "  <tbody>\n",
       "    <tr>\n",
       "      <th>0</th>\n",
       "      <td>Newton</td>\n",
       "      <td>Leibniz</td>\n",
       "      <td>31</td>\n",
       "      <td>10</td>\n",
       "      <td>1897</td>\n",
       "      <td>21</td>\n",
       "      <td>-21</td>\n",
       "    </tr>\n",
       "    <tr>\n",
       "      <th>1</th>\n",
       "      <td>Von-Neumann</td>\n",
       "      <td>Newton</td>\n",
       "      <td>29</td>\n",
       "      <td>6</td>\n",
       "      <td>1897</td>\n",
       "      <td>23</td>\n",
       "      <td>-23</td>\n",
       "    </tr>\n",
       "    <tr>\n",
       "      <th>2</th>\n",
       "      <td>Von-Neumann</td>\n",
       "      <td>Leibniz</td>\n",
       "      <td>23</td>\n",
       "      <td>15</td>\n",
       "      <td>1897</td>\n",
       "      <td>8</td>\n",
       "      <td>-8</td>\n",
       "    </tr>\n",
       "    <tr>\n",
       "      <th>3</th>\n",
       "      <td>Leibniz</td>\n",
       "      <td>Laplace</td>\n",
       "      <td>20</td>\n",
       "      <td>21</td>\n",
       "      <td>1897</td>\n",
       "      <td>-1</td>\n",
       "      <td>1</td>\n",
       "    </tr>\n",
       "    <tr>\n",
       "      <th>4</th>\n",
       "      <td>Newton</td>\n",
       "      <td>Euler</td>\n",
       "      <td>26</td>\n",
       "      <td>24</td>\n",
       "      <td>1897</td>\n",
       "      <td>2</td>\n",
       "      <td>-2</td>\n",
       "    </tr>\n",
       "    <tr>\n",
       "      <th>5</th>\n",
       "      <td>Gauss</td>\n",
       "      <td>Leibniz</td>\n",
       "      <td>48</td>\n",
       "      <td>7</td>\n",
       "      <td>1897</td>\n",
       "      <td>41</td>\n",
       "      <td>-41</td>\n",
       "    </tr>\n",
       "    <tr>\n",
       "      <th>6</th>\n",
       "      <td>Euler</td>\n",
       "      <td>Gauss</td>\n",
       "      <td>13</td>\n",
       "      <td>10</td>\n",
       "      <td>1897</td>\n",
       "      <td>3</td>\n",
       "      <td>-3</td>\n",
       "    </tr>\n",
       "  </tbody>\n",
       "</table>\n",
       "</div>"
      ],
      "text/plain": [
       "   home_player away_player  home_score  away_score  year  home_goal_diff  \\\n",
       "0       Newton     Leibniz          31          10  1897              21   \n",
       "1  Von-Neumann      Newton          29           6  1897              23   \n",
       "2  Von-Neumann     Leibniz          23          15  1897               8   \n",
       "3      Leibniz     Laplace          20          21  1897              -1   \n",
       "4       Newton       Euler          26          24  1897               2   \n",
       "5        Gauss     Leibniz          48           7  1897              41   \n",
       "6        Euler       Gauss          13          10  1897               3   \n",
       "\n",
       "   away_goal_diff  \n",
       "0             -21  \n",
       "1             -23  \n",
       "2              -8  \n",
       "3               1  \n",
       "4              -2  \n",
       "5             -41  \n",
       "6              -3  "
      ]
     },
     "execution_count": 14,
     "metadata": {},
     "output_type": "execute_result"
    }
   ],
   "source": [
    "df_all.head(7)"
   ]
  },
  {
   "cell_type": "markdown",
   "metadata": {},
   "source": [
    "## Part 3\n",
    "\n",
    "## We aim to understand the different distributions of attacking strength and defensive strength.\n",
    "## These are probabilistic estimates and help us better understand the uncertainty in sports analytics.\n",
    "\n",
    "## Tasks\n",
    "\n",
    "### 1. Plot the attack and defence strenght HDI for each team and compare them. Which player has the best offence and which has the best defence? who has the worst offence and defence? Does these results is aligned with part 1 analysis?\n",
    "### 2. What is the probability that Euler has a better defence than Gauss? \n",
    "### 3. Suppose Leibniz is hosting Newton for a game. What is the probability that Leibniz will score more than 20? what is the probability that Newton will score less than 20?\n",
    "\n",
    "### 4. Simulate who wins over a total of 4000 simulations, one per sample in the posterior. Hint: use the sample_posterior_predictive function.\n",
    "### The resulting simulation should give you the score per each game for all possible combinations for 4 seasons. For each sample out of the 4000 we can measure who will be ranked 1st, 2nd, etc. The ranking is done as follows: \n",
    "### If a player wins he gets 3 points, draw a single point and lost 0 points. Sum up the points and you will get a full ranking. If we aggregate the results, we can the probability for each player for each position. \n",
    "\n",
    "### You are required to draw a bar chart that indicates the probability of all possible ranks for each team.\n"
   ]
  },
  {
   "cell_type": "markdown",
   "metadata": {},
   "source": [
    "## Your code and answers here"
   ]
  },
  {
   "cell_type": "markdown",
   "metadata": {},
   "source": [
    "The analysis of attack and defense strength HDI reveals that Euler emerges as the offensive best player, aligning with the high goal difference observed in Part 1. However, the defensive paints a different picture, with Leibniz showcasing the best defense despite having the worst offense. This view explains Leibniz's poor overall performance in Part 1, suggesting a team that excels at preventing goals but struggles to score them. Gauss presents an interesting case, with the worst defense but a strong offensive showing, indicating that their positive goal difference from Part 1 likely stems from exceptional scoring rather than defensive prowess. The performances of Newton, Von Neumann, and Laplace appear more balanced or consistent with earlier observations."
   ]
  },
  {
   "cell_type": "code",
   "execution_count": 16,
   "metadata": {},
   "outputs": [
    {
     "data": {
      "image/png": "[encoded data removed]",
      "text/plain": [
       "<Figure size 1200x1000 with 2 Axes>"
      ]
     },
     "metadata": {},
     "output_type": "display_data"
    },
    {
     "name": "stdout",
     "output_type": "stream",
     "text": [
      "Best offense: Euler\n",
      "Worst offense: Leibniz\n",
      "Best defense: Leibniz\n",
      "Worst defense: Gauss\n"
     ]
    }
   ],
   "source": [
    "# Task 1\n",
    "\n",
    "# Extracting the  attack and defense strengths from the trace\n",
    "att_samples = trace.posterior['att']\n",
    "def_samples = trace.posterior['def']\n",
    "\n",
    "# Graph\n",
    "fig, axs = plt.subplots(2, 1, figsize=(12, 10), sharex=True)\n",
    "\n",
    "# Custom colors for attack and defense\n",
    "colors = [\"#1f77b4\", \"#ff7f0e\"]\n",
    "\n",
    "# Plot for attack strength\n",
    "az.plot_forest(trace, var_names=['att'], hdi_prob=0.95, combined=True, colors=colors[0], ax=axs[0])\n",
    "axs[0].set_title('Attack Strength HDI (95%) per Team')\n",
    "axs[0].set_yticks(range(len(teams)))\n",
    "axs[0].set_yticklabels(teams)\n",
    "axs[0].grid(True)\n",
    "\n",
    "# Plot for defense strength\n",
    "az.plot_forest(trace, var_names=['def'], hdi_prob=0.95, combined=True, colors=colors[1], ax=axs[1])\n",
    "axs[1].set_title('Defense Strength HDI (95%) per Team')\n",
    "axs[1].set_yticks(range(len(teams)))\n",
    "axs[1].set_yticklabels(teams)\n",
    "axs[1].grid(True)\n",
    "\n",
    "# Improve layout and display the plot\n",
    "plt.tight_layout()\n",
    "plt.show()\n",
    "\n",
    "# Identifying the best and worst offense and defense\n",
    "att_mean = att_samples.mean(dim=(\"chain\", \"draw\")).values\n",
    "def_mean = def_samples.mean(dim=(\"chain\", \"draw\")).values\n",
    "\n",
    "best_offense_idx = att_mean.argmax()\n",
    "worst_offense_idx = att_mean.argmin()\n",
    "best_defense_idx = def_mean.argmax()\n",
    "worst_defense_idx = def_mean.argmin()\n",
    "\n",
    "best_offense = teams[best_offense_idx]\n",
    "worst_offense = teams[worst_offense_idx]\n",
    "best_defense = teams[best_defense_idx]\n",
    "worst_defense = teams[worst_defense_idx]\n",
    "\n",
    "print(f\"Best offense: {best_offense}\")\n",
    "print(f\"Worst offense: {worst_offense}\")\n",
    "print(f\"Best defense: {best_defense}\")\n",
    "print(f\"Worst defense: {worst_defense}\")"
   ]
  },
  {
   "cell_type": "code",
   "execution_count": 17,
   "metadata": {},
   "outputs": [
    {
     "name": "stdout",
     "output_type": "stream",
     "text": [
      "Probability that Euler has a better defense than Gauss: 0.99\n"
     ]
    }
   ],
   "source": [
    "# Task 2\n",
    "\n",
    "# Extracting the samples for Euler and Gauss defense\n",
    "def_euler = def_samples.sel(team='Euler')\n",
    "def_gauss = def_samples.sel(team='Gauss')\n",
    "\n",
    "# Calculating the probability\n",
    "prob_euler_better_def = (def_euler > def_gauss).mean().values\n",
    "print(f\"Probability that Euler has a better defense than Gauss: {prob_euler_better_def:.2f}\")"
   ]
  },
  {
   "cell_type": "code",
   "execution_count": 18,
   "metadata": {},
   "outputs": [
    {
     "name": "stdout",
     "output_type": "stream",
     "text": [
      "Probability that Leibniz will score more than 20: 0.47\n",
      "Probability that Newton will score less than 20: 0.61\n"
     ]
    }
   ],
   "source": [
    "from scipy.stats import poisson\n",
    "\n",
    "# Extracting posterior samples from the trace\n",
    "posterior = az.extract(trace)\n",
    "\n",
    "# Defining a function to calculate the probabilities of game outcomes\n",
    "# between a home team and an away team based on their attack and defense strengths, here the threshold is set to 20\n",
    "# to answer the question of task 3\n",
    "def calculate_game_probabilities(home_team, away_team, posterior, threshold=20):\n",
    "    # Index for the home and away teas from the teams DataFrame\n",
    "    home_idx = teams.get_loc(home_team)\n",
    "    away_idx = teams.get_loc(away_team)\n",
    "    \n",
    "    # Calculating the expected goals (rate) for the home team by combining the model's parameters:\n",
    "    # intercept, home advantage, attack strength of the home team, defense strength of the away team,\n",
    "    # and adjusting for the average attack and defense strengths across all teams\n",
    "    home_rate = np.exp(posterior['intercept'] + posterior['home'] + \n",
    "                       posterior['att'][:, home_idx] - posterior['att'].mean(axis=1) + \n",
    "                       posterior['def'][:, away_idx] - posterior['def'].mean(axis=1))\n",
    "    \n",
    "    # Calculating the expected goals (rate) for the away team in a similar manner,\n",
    "    # but without the home advantage parameter\n",
    "    away_rate = np.exp(posterior['intercept'] + \n",
    "                       posterior['att'][:, away_idx] - posterior['att'].mean(axis=1) + \n",
    "                       posterior['def'][:, home_idx] - posterior['def'].mean(axis=1))\n",
    "    \n",
    "    # Calculating the probability of the home team scoring more than 'threshold' goals\n",
    "    # by using the Poisson distribution and taking the mean of the probabilities\n",
    "    home_prob = (1 - poisson.cdf(threshold - 1, home_rate)).mean()\n",
    "    \n",
    "    # Calculating the probability of the away team scoring less than 'threshold' goals\n",
    "    # in a similar manner\n",
    "    away_prob = poisson.cdf(threshold - 1, away_rate).mean()\n",
    "    \n",
    "    return home_prob, away_prob\n",
    "\n",
    "# Calculating and printing the probabilities for the specific game scenario of the task 3 question:\n",
    "# Leibniz (home) vs Newton (away) and the probabilities of scoring more or less than 20 goals\n",
    "leibniz_prob, newton_prob = calculate_game_probabilities('Leibniz', 'Newton', posterior)\n",
    "\n",
    "print(f\"Probability that Leibniz will score more than 20: {leibniz_prob:.2f}\")\n",
    "print(f\"Probability that Newton will score less than 20: {newton_prob:.2f}\")"
   ]
  },
  {
   "cell_type": "code",
   "execution_count": 37,
   "metadata": {},
   "outputs": [
    {
     "name": "stderr",
     "output_type": "stream",
     "text": [
      "Sampling: []\n"
     ]
    },
    {
     "data": {
      "application/vnd.jupyter.widget-view+json": {
       "model_id": "1c9b1f3a066e4d84bf4cc4d05d0559b6",
       "version_major": 2,
       "version_minor": 0
      },
      "text/plain": [
       "Output()"
      ]
     },
     "metadata": {},
     "output_type": "display_data"
    },
    {
     "data": {
      "text/html": [
       "<pre style=\"white-space:pre;overflow-x:auto;line-height:normal;font-family:Menlo,'DejaVu Sans Mono',consolas,'Courier New',monospace\"></pre>\n"
      ],
      "text/plain": []
     },
     "metadata": {},
     "output_type": "display_data"
    },
    {
     "data": {
      "text/html": [
       "<pre style=\"white-space:pre;overflow-x:auto;line-height:normal;font-family:Menlo,'DejaVu Sans Mono',consolas,'Courier New',monospace\">\n",
       "</pre>\n"
      ],
      "text/plain": [
       "\n"
      ]
     },
     "metadata": {},
     "output_type": "display_data"
    },
    {
     "data": {
      "image/png": "[encoded data removed]",
      "text/plain": [
       "<Figure size 1000x600 with 1 Axes>"
      ]
     },
     "metadata": {},
     "output_type": "display_data"
    }
   ],
   "source": [
    "# Function to simulate the matches and compute the rankings\n",
    "def simulate_tournament(trace, teams, df_all, num_simulations=4000):\n",
    "    with mathball:\n",
    "        # Generating posterior predictive samples for the likelihoods of outcomes 'theta_g1' and 'theta_g2'\n",
    "        ppc = pm.sample_posterior_predictive(trace, var_names=[\"theta_g1\", \"theta_g2\"], random_seed=42)\n",
    "\n",
    "    # Initializing a DataFrame to store the results\n",
    "    results = pd.DataFrame(index=range(num_simulations), columns=teams, data=0)\n",
    "    \n",
    "    # Iterating over each simulation of the task\n",
    "    for sim in range(num_simulations):\n",
    "        points = {team: 0 for team in teams}\n",
    "        \n",
    "        # Each mathc\n",
    "        for idx, row in df_all.iterrows():\n",
    "            home_team = row['home_player']\n",
    "            away_team = row['away_player']\n",
    "            \n",
    "            # Extracting the correct scalar values for home_score and away_score\n",
    "            home_score = ppc.posterior_predictive['theta_g1'].isel(chain=0, draw=sim, theta_g1_dim_2=idx).values.item()\n",
    "            away_score = ppc.posterior_predictive['theta_g2'].isel(chain=0, draw=sim, theta_g2_dim_2=idx).values.item()\n",
    "            \n",
    "            # Assigning points based on the match result, this is based on the requirements of the task\n",
    "            if home_score > away_score:\n",
    "                points[home_team] += 3\n",
    "            elif home_score < away_score:\n",
    "                points[away_team] += 3\n",
    "            else:\n",
    "                points[home_team] += 1\n",
    "                points[away_team] += 1\n",
    "        \n",
    "        # Storing the points\n",
    "        for team in teams:\n",
    "            results.at[sim, team] = points[team]\n",
    "    \n",
    "    return results\n",
    "\n",
    "# Running the simulation 4000 times\n",
    "teams = df_all['home_player'].unique()\n",
    "results = simulate_tournament(trace, teams, df_all)\n",
    "\n",
    "# Calculating the rankings for the plot, (positions)\n",
    "rankings = results.rank(axis=1, ascending=False, method='min').astype(int)\n",
    "\n",
    "# Plot of the probability distributions for each possible rank per team\n",
    "rank_probs = {team: [] for team in teams}\n",
    "for team in teams:\n",
    "    for rank in range(1, len(teams) + 1):\n",
    "        rank_probs[team].append((rankings[team] == rank).mean())\n",
    "\n",
    "# Plot of the results\n",
    "fig, ax = plt.subplots(figsize=(10, 6))\n",
    "bar_width = 0.1\n",
    "for i, team in enumerate(teams):\n",
    "    ax.bar(np.arange(1, len(teams) + 1) + i * bar_width, rank_probs[team], width=bar_width, label=team)\n",
    "\n",
    "ax.set_xlabel('Positions')\n",
    "ax.set_ylabel('Probability')\n",
    "ax.set_title('Probability of winning the championships in Mathball')\n",
    "ax.set_xticks(np.arange(1, len(teams) + 1) + bar_width * (len(teams) - 1) / 2)\n",
    "ax.set_xticklabels(['Position {}'.format(i) for i in range(1, len(teams) + 1)])\n",
    "ax.legend()\n",
    "\n",
    "plt.show()"
   ]
  }
 ],
 "metadata": {
  "anaconda-cloud": {},
  "kernelspec": {
   "display_name": "Python 3",
   "language": "python",
   "name": "python3"
  },
  "language_info": {
   "codemirror_mode": {
    "name": "ipython",
    "version": 3
   },
   "file_extension": ".py",
   "mimetype": "text/x-python",
   "name": "python",
   "nbconvert_exporter": "python",
   "pygments_lexer": "ipython3",
   "version": "3.11.2"
  },
  "substitutions": {
   "extra_dependencies": "seaborn numba xarray-einstats"
  }
 },
 "nbformat": 4,
 "nbformat_minor": 4
}
