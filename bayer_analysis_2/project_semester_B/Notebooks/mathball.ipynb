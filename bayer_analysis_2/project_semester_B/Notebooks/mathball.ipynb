{
 "cells": [
  {
   "cell_type": "markdown",
   "metadata": {},
   "source": [
    "##  Congratulations, you are now hired as a sport analytic. Your job is to give prediciton for the next Mathball tournament of the Six finest mathematicians in the world, which is a competition between Laplace, Gauss, Newton, Euler, Leibniz, Von-Neumann."
   ]
  },
  {
   "cell_type": "markdown",
   "metadata": {},
   "source": [
    "## The mathball is just like football where a player a goal is legal only after scoring you answer correctly a math question. "
   ]
  },
  {
   "cell_type": "markdown",
   "metadata": {},
   "source": [
    "## Motivation:  \n",
    "### We want to infer a latent parameter - that is the 'strength' of a mathematician based only on their **scoring intensity**, and all we have are their scores and results, we can't accurately measure the 'strength' of a team.\n"
   ]
  },
  {
   "cell_type": "code",
   "execution_count": 3,
   "metadata": {
    "tags": []
   },
   "outputs": [],
   "source": [
    "# imports\n",
    "import arviz as az\n",
    "import matplotlib.pyplot as plt\n",
    "import numpy as np\n",
    "import pandas as pd\n",
    "import pymc as pm\n",
    "import seaborn as sns\n",
    "import pickle as pkl"
   ]
  },
  {
   "cell_type": "markdown",
   "metadata": {},
   "source": [
    "## The input   looks like as follows: "
   ]
  },
  {
   "cell_type": "code",
   "execution_count": 4,
   "metadata": {
    "tags": []
   },
   "outputs": [
    {
     "data": {
      "text/html": [
       "<div>\n",
       "<style scoped>\n",
       "    .dataframe tbody tr th:only-of-type {\n",
       "        vertical-align: middle;\n",
       "    }\n",
       "\n",
       "    .dataframe tbody tr th {\n",
       "        vertical-align: top;\n",
       "    }\n",
       "\n",
       "    .dataframe thead th {\n",
       "        text-align: right;\n",
       "    }\n",
       "</style>\n",
       "<table border=\"1\" class=\"dataframe\">\n",
       "  <thead>\n",
       "    <tr style=\"text-align: right;\">\n",
       "      <th></th>\n",
       "      <th>home_player</th>\n",
       "      <th>away_player</th>\n",
       "      <th>home_score</th>\n",
       "      <th>away_score</th>\n",
       "      <th>year</th>\n",
       "    </tr>\n",
       "  </thead>\n",
       "  <tbody>\n",
       "    <tr>\n",
       "      <th>0</th>\n",
       "      <td>Leibniz</td>\n",
       "      <td>Gauss</td>\n",
       "      <td>20</td>\n",
       "      <td>22</td>\n",
       "      <td>1897</td>\n",
       "    </tr>\n",
       "    <tr>\n",
       "      <th>1</th>\n",
       "      <td>Leibniz</td>\n",
       "      <td>Laplace</td>\n",
       "      <td>30</td>\n",
       "      <td>10</td>\n",
       "      <td>1897</td>\n",
       "    </tr>\n",
       "    <tr>\n",
       "      <th>2</th>\n",
       "      <td>Euler</td>\n",
       "      <td>Von-Neumann</td>\n",
       "      <td>29</td>\n",
       "      <td>18</td>\n",
       "      <td>1897</td>\n",
       "    </tr>\n",
       "    <tr>\n",
       "      <th>3</th>\n",
       "      <td>Newton</td>\n",
       "      <td>Euler</td>\n",
       "      <td>0</td>\n",
       "      <td>20</td>\n",
       "      <td>1897</td>\n",
       "    </tr>\n",
       "    <tr>\n",
       "      <th>4</th>\n",
       "      <td>Gauss</td>\n",
       "      <td>Newton</td>\n",
       "      <td>29</td>\n",
       "      <td>6</td>\n",
       "      <td>1897</td>\n",
       "    </tr>\n",
       "  </tbody>\n",
       "</table>\n",
       "</div>"
      ],
      "text/plain": [
       "  home_player  away_player  home_score  away_score  year\n",
       "0     Leibniz        Gauss          20          22  1897\n",
       "1     Leibniz      Laplace          30          10  1897\n",
       "2       Euler  Von-Neumann          29          18  1897\n",
       "3      Newton        Euler           0          20  1897\n",
       "4       Gauss       Newton          29           6  1897"
      ]
     },
     "execution_count": 4,
     "metadata": {},
     "output_type": "execute_result"
    }
   ],
   "source": [
    "group = 8\n",
    "df_all  = pkl.load(open('../data_mathball/mathball_data_group_' + str(group)+ '.pkl', 'rb'))\n",
    "df_all.head()"
   ]
  },
  {
   "cell_type": "markdown",
   "metadata": {},
   "source": [
    "## We have home and away team, we have score and year. "
   ]
  },
  {
   "cell_type": "markdown",
   "metadata": {},
   "source": [
    "## What do we want to infer?\n",
    "\n",
    "### We want to infer the latent parameters (every mathematian's strength) that are generating the data we observe (the scorelines).\n",
    "### Moreover, we know that the scorelines are a noisy measurement of team strength, so ideally, we want a model that makes it easy to quantify our uncertainty about the underlying strengths.\n",
    "\n",
    "## What do we want?\n",
    "\n",
    "### We want to quantify our uncertainty\n",
    "### We want to also use this to generate a model\n",
    "### We want the answers as distributions not point estimates"
   ]
  },
  {
   "cell_type": "markdown",
   "metadata": {},
   "source": [
    "## Part 1\n",
    "\n",
    "### We next do some exploratory data analysis. The idea is to get a general sense of what is going on.\n",
    "\n",
    "## Tasks\n",
    "\n",
    "### 1. Plot a bar chart of the goal difference (i.e., total scored minus total scored against) per mathematician. Who is the best mathematician and who is the worst according to this plot?\n",
    "### 2. Plot the same bar chart for each mathematician  as a function of time. Do you see a monote behvaoir which implies an improvement or the other way around for one of mathematician?\n",
    "### 3. Choose your favorite mathematician, compare the goal difference between home and away games. Is he better in home or away games? Plot a bar chart of the goal difference for both home and away games.\n",
    "### 4. Which mathematician has the best median away results? (that is, for each mathematician go over all of his away games, compute his scoring difference (how much he scored minues got scored against) and compute the median value). "
   ]
  },
  {
   "cell_type": "markdown",
   "metadata": {},
   "source": [
    "## Part 2"
   ]
  },
  {
   "cell_type": "markdown",
   "metadata": {},
   "source": [
    "## What assumptions do we know for our mathball competition?\n",
    "\n",
    "### We know that there are 6 mathematicians, each year all possible pairs playes once.  \n",
    "### We have data from the last few years\n",
    "### We also know that in sports scoring is modelled as a Poisson distribution (even in mathball)\n",
    "### We consider home advantage to be a strong effect in sports "
   ]
  },
  {
   "cell_type": "markdown",
   "metadata": {
    "tags": []
   },
   "source": [
    "## The model.\n",
    "\n",
    "### The league is made up by a total of T= 6 mathematicians, playing each other once in a season.\n",
    "\n",
    "### We indicate the number of goals scored by the home and the away player in the g-th game of the season (15 games) as $y_{g1}$ and $y_{g2}$ respectively. </p>\n",
    "### The vector of observed goal counts $\\mathbb{y} = (y_{g1}, y_{g2})$ is modelled as independent Poisson:\n",
    "## $$y_{gj}| \\theta_{gj} \\tilde\\;\\;  Poisson(\\theta_{gj})$$\n",
    "### where the theta parameters represent the scoring intensity in the g-th game for the team playing at home (j=1) and away (j=2), respectively.</p>"
   ]
  },
  {
   "cell_type": "markdown",
   "metadata": {},
   "source": [
    "## We model these parameters according to a formulation that has been used widely in the statistical literature, assuming a log-linear random effect model:\n",
    "### $$ log \\theta_{g1} = intercept + home + \\hat{att}_{h(g)} + \\hat{def}_{a(g)} $$\n",
    "### $$ log \\theta_{g2} = intercept + \\hat{att}_{a(g)} + \\hat{def}_{h(g)}$$\n",
    "\n",
    "\n",
    "## Alternitevly: \n",
    "\n",
    "### $$  \\theta_{g1} = e^{intercept + home + \\hat{att}_{h(g)} + \\hat{def}_{a(g)}} $$\n",
    "### $$  \\theta_{g2} = e^{intercept + \\hat{att}_{a(g)} + \\hat{def}_{h(g)}}$$\n",
    "\n",
    "### $\\hat{att}_{h(g)}$ is the attack effect of a player. \n",
    "### $\\hat{def}_{h(g)}$ is the attack effect of a player. \n",
    "\n",
    "### For mathematician  i = 1, ..., 6, both  $\\hat{att}_{i}$ and $\\hat{def}_{i}$ are normalized values, fomrally:\n",
    "\n",
    "### $$ \\hat{att}_{i} = att_i - \\bar{att} $$\n",
    "### $$ \\hat{def}_{i} = att_i - \\bar{def} $$\n",
    "\n",
    "where, \n",
    "\n",
    "### $$ \\bar{att}  = \\frac{\\sum_{i=1}^6 att_i}{6} $$\n",
    "### $$ \\bar{def}  = \\frac{\\sum_{i=1}^6 def_i}{6} $$\n",
    "\n",
    "### Just for clarification: suppose we index mathematicians as follows:\n",
    "### 1: Laplace\n",
    "### 2: Gauss\n",
    "### 3: Newton\n",
    "### 4: Euler\n",
    "### 5: Leibniz\n",
    "### 6: Von-Neumann\n",
    "\n",
    "### Now, suppose the first game is Laplace hosting Gauss (the clash of the titans).\n",
    "### Thus, $h(1) = 1 $ (i.e.,Laplace ) and $a(1) = 2 $ (i.e., Gauss). \n",
    "\n",
    "### The parameter home represents the advantage for the team hosting the game and we assume that this effect is constant for all the teams and throughout the season\n",
    "### The scoring intensity is determined jointly by the attack and defense ability of the two teams involved, represented by the parameters att and def, respectively\n",
    "\n",
    "### Conversely, for each i = 1, ..., 6, the player-specific effects are modelled as exchangeable from a common distribution:\n",
    "\n",
    "### $att_{i} \\; \\tilde\\;\\; Normal(0,\\tau_{att})$ and $def_{i} \\; \\tilde\\;\\;Normal(0,\\tau_{def})$\n",
    "\n",
    "### The log function to away scores and home scores is a standard trick in the sports analytics literature"
   ]
  },
  {
   "cell_type": "markdown",
   "metadata": {
    "tags": []
   },
   "source": [
    "## Tasks\n",
    "\n",
    "### 1. Build a Hierarchical model with PyMc where you obtain a posterior of the latent variables: $home$, $att_i$,  $def_i$ for $i = \\{1,2,3,4,5,6\\} $ and $intercept$. \n",
    "### Remark: Set the MCMC configuration regarding the number of draws, such that there will 4000 samples in total.\n",
    "\n",
    "\n",
    "\n",
    "## guidence: \n",
    "###  For the Hierarchical model, connect the different players (mathematicians) only via the attack and defence std (i.e., $\\tau_{att}$ and $\\tau_{def}$) and not the mean value. "
   ]
  },
  {
   "cell_type": "markdown",
   "metadata": {},
   "source": [
    "## Indexing the data for the pymc model"
   ]
  },
  {
   "cell_type": "code",
   "execution_count": 12,
   "metadata": {
    "tags": []
   },
   "outputs": [],
   "source": [
    "import numpy as np"
   ]
  },
  {
   "cell_type": "code",
   "execution_count": 10,
   "metadata": {
    "tags": []
   },
   "outputs": [
    {
     "data": {
      "text/html": [
       "<div>\n",
       "<style scoped>\n",
       "    .dataframe tbody tr th:only-of-type {\n",
       "        vertical-align: middle;\n",
       "    }\n",
       "\n",
       "    .dataframe tbody tr th {\n",
       "        vertical-align: top;\n",
       "    }\n",
       "\n",
       "    .dataframe thead th {\n",
       "        text-align: right;\n",
       "    }\n",
       "</style>\n",
       "<table border=\"1\" class=\"dataframe\">\n",
       "  <thead>\n",
       "    <tr style=\"text-align: right;\">\n",
       "      <th></th>\n",
       "      <th>home_player</th>\n",
       "      <th>away_player</th>\n",
       "      <th>home_score</th>\n",
       "      <th>away_score</th>\n",
       "      <th>year</th>\n",
       "    </tr>\n",
       "  </thead>\n",
       "  <tbody>\n",
       "    <tr>\n",
       "      <th>0</th>\n",
       "      <td>Leibniz</td>\n",
       "      <td>Gauss</td>\n",
       "      <td>20</td>\n",
       "      <td>22</td>\n",
       "      <td>1897</td>\n",
       "    </tr>\n",
       "    <tr>\n",
       "      <th>1</th>\n",
       "      <td>Leibniz</td>\n",
       "      <td>Laplace</td>\n",
       "      <td>30</td>\n",
       "      <td>10</td>\n",
       "      <td>1897</td>\n",
       "    </tr>\n",
       "    <tr>\n",
       "      <th>2</th>\n",
       "      <td>Euler</td>\n",
       "      <td>Von-Neumann</td>\n",
       "      <td>29</td>\n",
       "      <td>18</td>\n",
       "      <td>1897</td>\n",
       "    </tr>\n",
       "    <tr>\n",
       "      <th>3</th>\n",
       "      <td>Newton</td>\n",
       "      <td>Euler</td>\n",
       "      <td>0</td>\n",
       "      <td>20</td>\n",
       "      <td>1897</td>\n",
       "    </tr>\n",
       "    <tr>\n",
       "      <th>4</th>\n",
       "      <td>Gauss</td>\n",
       "      <td>Newton</td>\n",
       "      <td>29</td>\n",
       "      <td>6</td>\n",
       "      <td>1897</td>\n",
       "    </tr>\n",
       "  </tbody>\n",
       "</table>\n",
       "</div>"
      ],
      "text/plain": [
       "  home_player  away_player  home_score  away_score  year\n",
       "0     Leibniz        Gauss          20          22  1897\n",
       "1     Leibniz      Laplace          30          10  1897\n",
       "2       Euler  Von-Neumann          29          18  1897\n",
       "3      Newton        Euler           0          20  1897\n",
       "4       Gauss       Newton          29           6  1897"
      ]
     },
     "execution_count": 10,
     "metadata": {},
     "output_type": "execute_result"
    }
   ],
   "source": [
    "df_all.head()"
   ]
  },
  {
   "cell_type": "code",
   "execution_count": 5,
   "metadata": {
    "tags": []
   },
   "outputs": [],
   "source": [
    "## for your convinience we have here the home and away index with respect to df_all.\n",
    "home_idx, teams = pd.factorize(df_all[\"home_player\"], sort=True)\n",
    "away_idx, _ = pd.factorize(df_all[\"away_player\"], sort=True)\n"
   ]
  },
  {
   "cell_type": "code",
   "execution_count": 20,
   "metadata": {
    "tags": []
   },
   "outputs": [
    {
     "data": {
      "text/html": [
       "<div>\n",
       "<style scoped>\n",
       "    .dataframe tbody tr th:only-of-type {\n",
       "        vertical-align: middle;\n",
       "    }\n",
       "\n",
       "    .dataframe tbody tr th {\n",
       "        vertical-align: top;\n",
       "    }\n",
       "\n",
       "    .dataframe thead th {\n",
       "        text-align: right;\n",
       "    }\n",
       "</style>\n",
       "<table border=\"1\" class=\"dataframe\">\n",
       "  <thead>\n",
       "    <tr style=\"text-align: right;\">\n",
       "      <th></th>\n",
       "      <th>home_player</th>\n",
       "      <th>away_player</th>\n",
       "      <th>home_score</th>\n",
       "      <th>away_score</th>\n",
       "      <th>year</th>\n",
       "    </tr>\n",
       "  </thead>\n",
       "  <tbody>\n",
       "    <tr>\n",
       "      <th>0</th>\n",
       "      <td>Leibniz</td>\n",
       "      <td>Gauss</td>\n",
       "      <td>20</td>\n",
       "      <td>22</td>\n",
       "      <td>1897</td>\n",
       "    </tr>\n",
       "    <tr>\n",
       "      <th>1</th>\n",
       "      <td>Leibniz</td>\n",
       "      <td>Laplace</td>\n",
       "      <td>30</td>\n",
       "      <td>10</td>\n",
       "      <td>1897</td>\n",
       "    </tr>\n",
       "    <tr>\n",
       "      <th>2</th>\n",
       "      <td>Euler</td>\n",
       "      <td>Von-Neumann</td>\n",
       "      <td>29</td>\n",
       "      <td>18</td>\n",
       "      <td>1897</td>\n",
       "    </tr>\n",
       "    <tr>\n",
       "      <th>3</th>\n",
       "      <td>Newton</td>\n",
       "      <td>Euler</td>\n",
       "      <td>0</td>\n",
       "      <td>20</td>\n",
       "      <td>1897</td>\n",
       "    </tr>\n",
       "    <tr>\n",
       "      <th>4</th>\n",
       "      <td>Gauss</td>\n",
       "      <td>Newton</td>\n",
       "      <td>29</td>\n",
       "      <td>6</td>\n",
       "      <td>1897</td>\n",
       "    </tr>\n",
       "  </tbody>\n",
       "</table>\n",
       "</div>"
      ],
      "text/plain": [
       "  home_player  away_player  home_score  away_score  year\n",
       "0     Leibniz        Gauss          20          22  1897\n",
       "1     Leibniz      Laplace          30          10  1897\n",
       "2       Euler  Von-Neumann          29          18  1897\n",
       "3      Newton        Euler           0          20  1897\n",
       "4       Gauss       Newton          29           6  1897"
      ]
     },
     "execution_count": 20,
     "metadata": {},
     "output_type": "execute_result"
    }
   ],
   "source": [
    "df_all.head()"
   ]
  },
  {
   "cell_type": "code",
   "execution_count": 22,
   "metadata": {
    "tags": []
   },
   "outputs": [
    {
     "data": {
      "text/plain": [
       "array([3, 3, 0, 4, 1, 1, 2, 5, 0, 5, 1, 5, 3, 2, 4, 4, 3, 2, 4, 3, 0, 5,\n",
       "       2, 4, 1, 5, 0, 2, 1, 0, 1, 1, 3, 0, 3, 2, 5, 3, 2, 5, 0, 4, 5, 4,\n",
       "       1, 4, 5, 5, 0, 0, 1, 2, 4, 2, 2, 3, 4, 3, 0, 1], dtype=int64)"
      ]
     },
     "execution_count": 22,
     "metadata": {},
     "output_type": "execute_result"
    }
   ],
   "source": [
    "home_idx"
   ]
  },
  {
   "cell_type": "code",
   "execution_count": null,
   "metadata": {},
   "outputs": [],
   "source": [
    "coords = {\"team\": teams, 'home_idx': home_idx, 'away_idx': away_idx}\n",
    "\n",
    "with pm.Model(coords=coords) as mathball:\n",
    "\n",
    "    # Hyperpriors\n",
    "    tau_att = # your code here\n",
    "    tau_def = # your code here\n",
    "\n",
    "    # Priors\n",
    "    intercept = #\n",
    "    home = #\n",
    "    att = pm.Normal('att', mu=0, sigma=tau_att, dims=\"team\")\n",
    "    def_ = pm.Normal('def', mu=0, sigma=tau_def, dims=\"team\")\n",
    "\n",
    "    ## att_centered function: substracting the mean att using pm.math.mean (your code here)\n",
    "    ## att_centered function: substracting the mean def using pm.math.mean (your code here)\n",
    "    \n",
    "    # Rate models\n",
    "    ## rate home function: intercept  + home +  att_centered[home_indx] + def_centered[away_idx] (your code here)\n",
    "    ## rate home function: intercept  +  att_centered[away_idx] + def_centered[home_indx] (your code here)\n",
    "\n",
    "    theta_g1 = # exponent funciton home games (your code here)\n",
    "    theta_g2 = # exponent funciton away games (your code here)\n",
    "\n",
    "    # Data likelihood\n",
    "    y1_likelihood = # Likelihood home score a function theta_g1 - Poisson (your code here) \n",
    "    y2_likelihood = # Likelihood home score  function theta_g2 - Poisson  (your code here) a function thetag2\n",
    "\n",
    "    ## pm.sample(your code here)"
   ]
  },
  {
   "cell_type": "code",
   "execution_count": 8,
   "metadata": {
    "tags": []
   },
   "outputs": [
    {
     "data": {
      "text/plain": [
       "Index(['Euler', 'Gauss', 'Laplace', 'Leibniz', 'Newton', 'Von-Neumann'], dtype='object')"
      ]
     },
     "execution_count": 8,
     "metadata": {},
     "output_type": "execute_result"
    }
   ],
   "source": [
    "teams"
   ]
  },
  {
   "cell_type": "code",
   "execution_count": 9,
   "metadata": {
    "tags": []
   },
   "outputs": [
    {
     "data": {
      "text/plain": [
       "array([1, 2, 5, 0, 4, 5, 4, 4, 1, 2, 2, 3, 0, 0, 3, 1, 5, 5, 5, 4, 4, 1,\n",
       "       3, 2, 0, 0, 2, 1, 3, 3, 5, 2, 0, 5, 2, 4, 2, 1, 0, 3, 1, 0, 4, 3,\n",
       "       4, 5, 0, 1, 4, 2, 0, 5, 1, 1, 3, 4, 2, 5, 3, 3], dtype=int64)"
      ]
     },
     "execution_count": 9,
     "metadata": {},
     "output_type": "execute_result"
    }
   ],
   "source": [
    "away_idx"
   ]
  },
  {
   "cell_type": "code",
   "execution_count": 26,
   "metadata": {
    "tags": []
   },
   "outputs": [
    {
     "data": {
      "text/html": [
       "<div>\n",
       "<style scoped>\n",
       "    .dataframe tbody tr th:only-of-type {\n",
       "        vertical-align: middle;\n",
       "    }\n",
       "\n",
       "    .dataframe tbody tr th {\n",
       "        vertical-align: top;\n",
       "    }\n",
       "\n",
       "    .dataframe thead th {\n",
       "        text-align: right;\n",
       "    }\n",
       "</style>\n",
       "<table border=\"1\" class=\"dataframe\">\n",
       "  <thead>\n",
       "    <tr style=\"text-align: right;\">\n",
       "      <th></th>\n",
       "      <th>home_player</th>\n",
       "      <th>away_player</th>\n",
       "      <th>home_score</th>\n",
       "      <th>away_score</th>\n",
       "      <th>year</th>\n",
       "    </tr>\n",
       "  </thead>\n",
       "  <tbody>\n",
       "    <tr>\n",
       "      <th>0</th>\n",
       "      <td>Leibniz</td>\n",
       "      <td>Gauss</td>\n",
       "      <td>20</td>\n",
       "      <td>22</td>\n",
       "      <td>2014</td>\n",
       "    </tr>\n",
       "    <tr>\n",
       "      <th>1</th>\n",
       "      <td>Leibniz</td>\n",
       "      <td>Laplace</td>\n",
       "      <td>30</td>\n",
       "      <td>10</td>\n",
       "      <td>2014</td>\n",
       "    </tr>\n",
       "    <tr>\n",
       "      <th>2</th>\n",
       "      <td>Euler</td>\n",
       "      <td>Von-Neumann</td>\n",
       "      <td>29</td>\n",
       "      <td>18</td>\n",
       "      <td>2014</td>\n",
       "    </tr>\n",
       "    <tr>\n",
       "      <th>3</th>\n",
       "      <td>Newton</td>\n",
       "      <td>Euler</td>\n",
       "      <td>0</td>\n",
       "      <td>20</td>\n",
       "      <td>2014</td>\n",
       "    </tr>\n",
       "    <tr>\n",
       "      <th>4</th>\n",
       "      <td>Gauss</td>\n",
       "      <td>Newton</td>\n",
       "      <td>29</td>\n",
       "      <td>6</td>\n",
       "      <td>2014</td>\n",
       "    </tr>\n",
       "    <tr>\n",
       "      <th>5</th>\n",
       "      <td>Gauss</td>\n",
       "      <td>Von-Neumann</td>\n",
       "      <td>27</td>\n",
       "      <td>3</td>\n",
       "      <td>2014</td>\n",
       "    </tr>\n",
       "    <tr>\n",
       "      <th>6</th>\n",
       "      <td>Laplace</td>\n",
       "      <td>Newton</td>\n",
       "      <td>20</td>\n",
       "      <td>21</td>\n",
       "      <td>2014</td>\n",
       "    </tr>\n",
       "  </tbody>\n",
       "</table>\n",
       "</div>"
      ],
      "text/plain": [
       "  home_player  away_player  home_score  away_score  year\n",
       "0     Leibniz        Gauss          20          22  2014\n",
       "1     Leibniz      Laplace          30          10  2014\n",
       "2       Euler  Von-Neumann          29          18  2014\n",
       "3      Newton        Euler           0          20  2014\n",
       "4       Gauss       Newton          29           6  2014\n",
       "5       Gauss  Von-Neumann          27           3  2014\n",
       "6     Laplace       Newton          20          21  2014"
      ]
     },
     "execution_count": 26,
     "metadata": {},
     "output_type": "execute_result"
    }
   ],
   "source": [
    "df_all.head(7)"
   ]
  },
  {
   "cell_type": "markdown",
   "metadata": {},
   "source": [
    "## Your code in here"
   ]
  },
  {
   "cell_type": "code",
   "execution_count": null,
   "metadata": {},
   "outputs": [],
   "source": []
  },
  {
   "cell_type": "code",
   "execution_count": null,
   "metadata": {},
   "outputs": [],
   "source": []
  },
  {
   "cell_type": "code",
   "execution_count": null,
   "metadata": {},
   "outputs": [],
   "source": []
  },
  {
   "cell_type": "code",
   "execution_count": null,
   "metadata": {},
   "outputs": [],
   "source": []
  },
  {
   "cell_type": "markdown",
   "metadata": {},
   "source": [
    "## Part 3\n",
    "\n",
    "## We aim to understand the different distributions of attacking strength and defensive strength.\n",
    "## These are probabilistic estimates and help us better understand the uncertainty in sports analytics.\n",
    "\n",
    "## Tasks\n",
    "\n",
    "### 1. Plot the attack and defence strenght HDI for each team and compare them. Which player has the best offence and which has the best defence? who has the worst offence and defence? Does these results is aligned with part 1 analysis?\n",
    "### 2. What is the probability that Euler has a better defence than Gauss? \n",
    "### 3. Suppose Leibniz is hosting Newton for a game. What is the probability that Leibniz will score more than 20? what is the probability that Newton will score less than 20?\n",
    "\n",
    "### 4. Simulate who wins over a total of 4000 simulations, one per sample in the posterior. Hint: use the sample_posterior_predictive function.\n",
    "### The resulting simulation should give you the score per each game for all possible combinations for 4 seasons. For each sample out of the 4000 we can measure who will be ranked 1st, 2nd, etc. The ranking is done as follows: \n",
    "### If a player wins he gets 3 points, draw a single point and lost 0 points. Sum up the points and you will get a full ranking. If we aggregate the results, we can the probability for each player for each position. \n",
    "\n",
    "### You are required to draw a bar chart that indicates the probability of all possible ranks for each team.\n"
   ]
  },
  {
   "cell_type": "code",
   "execution_count": 7,
   "metadata": {
    "tags": []
   },
   "outputs": [
    {
     "data": {
      "image/jpeg": "[encoded data removed]",
      "text/plain": [
       "<IPython.core.display.Image object>"
      ]
     },
     "metadata": {},
     "output_type": "display_data"
    }
   ],
   "source": [
    "from IPython.display import Image, display\n",
    "image_path = 'img_bar_chat.jpg'\n",
    "display(Image(filename=image_path))"
   ]
  },
  {
   "cell_type": "markdown",
   "metadata": {},
   "source": [
    "## Your code and answers here"
   ]
  },
  {
   "cell_type": "code",
   "execution_count": null,
   "metadata": {},
   "outputs": [],
   "source": []
  },
  {
   "cell_type": "code",
   "execution_count": null,
   "metadata": {},
   "outputs": [],
   "source": []
  },
  {
   "cell_type": "code",
   "execution_count": null,
   "metadata": {},
   "outputs": [],
   "source": []
  },
  {
   "cell_type": "code",
   "execution_count": null,
   "metadata": {},
   "outputs": [],
   "source": []
  },
  {
   "cell_type": "code",
   "execution_count": null,
   "metadata": {},
   "outputs": [],
   "source": []
  },
  {
   "cell_type": "code",
   "execution_count": null,
   "metadata": {},
   "outputs": [],
   "source": []
  },
  {
   "cell_type": "code",
   "execution_count": null,
   "metadata": {},
   "outputs": [],
   "source": []
  },
  {
   "cell_type": "code",
   "execution_count": null,
   "metadata": {},
   "outputs": [],
   "source": []
  },
  {
   "cell_type": "code",
   "execution_count": null,
   "metadata": {},
   "outputs": [],
   "source": []
  },
  {
   "cell_type": "code",
   "execution_count": null,
   "metadata": {},
   "outputs": [],
   "source": []
  },
  {
   "cell_type": "code",
   "execution_count": null,
   "metadata": {},
   "outputs": [],
   "source": []
  },
  {
   "cell_type": "code",
   "execution_count": null,
   "metadata": {},
   "outputs": [],
   "source": []
  },
  {
   "cell_type": "code",
   "execution_count": null,
   "metadata": {},
   "outputs": [],
   "source": []
  },
  {
   "cell_type": "code",
   "execution_count": null,
   "metadata": {},
   "outputs": [],
   "source": []
  },
  {
   "cell_type": "code",
   "execution_count": null,
   "metadata": {},
   "outputs": [],
   "source": []
  },
  {
   "cell_type": "code",
   "execution_count": null,
   "metadata": {},
   "outputs": [],
   "source": []
  },
  {
   "cell_type": "code",
   "execution_count": null,
   "metadata": {},
   "outputs": [],
   "source": []
  },
  {
   "cell_type": "code",
   "execution_count": null,
   "metadata": {},
   "outputs": [],
   "source": []
  },
  {
   "cell_type": "code",
   "execution_count": null,
   "metadata": {},
   "outputs": [],
   "source": []
  }
 ],
 "metadata": {
  "anaconda-cloud": {},
  "kernelspec": {
   "display_name": "pymc",
   "language": "python",
   "name": "myenv"
  },
  "language_info": {
   "codemirror_mode": {
    "name": "ipython",
    "version": 3
   },
   "file_extension": ".py",
   "mimetype": "text/x-python",
   "name": "python",
   "nbconvert_exporter": "python",
   "pygments_lexer": "ipython3",
   "version": "3.11.5"
  },
  "substitutions": {
   "extra_dependencies": "seaborn numba xarray-einstats"
  }
 },
 "nbformat": 4,
 "nbformat_minor": 4
}
